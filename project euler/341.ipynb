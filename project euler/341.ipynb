{
 "cells": [
  {
   "cell_type": "markdown",
   "metadata": {},
   "source": [
    "# Golomb Self Describing Sequence\n",
    "The Golomb's self-describing sequence $G(n)$ is the only nondecreasing sequence of natural numbers such that $n$ appears exactly $G(n)$ times in the sequence. The first few terms of the sequence $n$ are:\n",
    "$\n",
    "1, 2, 2, 3, 3, 4, 4, 4, 5, 5, 5, 6, 6, 6, 6\n",
    "$\n",
    "\n",
    "You are given $G(10^3) = 86$ and $G(10^6) = 6137$. \n",
    "\n",
    "You are also give $\\sum_{i=1}^{10^3} G(i^3) = 153506976$. \n",
    "\n",
    "Find $\\sum_{i=1}^{10^6} G(i^3)$. "
   ]
  },
  {
   "cell_type": "code",
   "execution_count": 1,
   "metadata": {},
   "outputs": [],
   "source": [
    "def generate_n_golomb(n):\n",
    "    out = [1, 2]\n",
    "    curr = 2\n",
    "    used = 1\n",
    "    idx = 2\n",
    "\n",
    "    while idx < n:\n",
    "        if used < out[curr-1]:\n",
    "            out.append(curr)\n",
    "            used += 1\n",
    "        else:\n",
    "            curr += 1\n",
    "            used = 1\n",
    "            out.append(curr)\n",
    "        idx += 1\n",
    "    return out"
   ]
  },
  {
   "cell_type": "code",
   "execution_count": 21,
   "metadata": {},
   "outputs": [
    {
     "ename": "RecursionError",
     "evalue": "maximum recursion depth exceeded in comparison",
     "output_type": "error",
     "traceback": [
      "\u001b[0;31m---------------------------------------------------------------------------\u001b[0m",
      "\u001b[0;31mRecursionError\u001b[0m                            Traceback (most recent call last)",
      "Cell \u001b[0;32mIn[21], line 11\u001b[0m\n\u001b[1;32m      8\u001b[0m         \u001b[38;5;28;01mreturn\u001b[39;00m \u001b[38;5;241m1\u001b[39m \u001b[38;5;241m+\u001b[39m rec(n \u001b[38;5;241m-\u001b[39mrec(rec(n\u001b[38;5;241m-\u001b[39m\u001b[38;5;241m1\u001b[39m)))\n\u001b[1;32m      9\u001b[0m     \u001b[38;5;28;01mreturn\u001b[39;00m rec(n)\n\u001b[0;32m---> 11\u001b[0m \u001b[43mrec_nth_golomb\u001b[49m\u001b[43m(\u001b[49m\u001b[38;5;241;43m1e8\u001b[39;49m\u001b[43m)\u001b[49m\n",
      "Cell \u001b[0;32mIn[21], line 9\u001b[0m, in \u001b[0;36mrec_nth_golomb\u001b[0;34m(n)\u001b[0m\n\u001b[1;32m      7\u001b[0m         \u001b[38;5;28;01mreturn\u001b[39;00m \u001b[38;5;241m1\u001b[39m\n\u001b[1;32m      8\u001b[0m     \u001b[38;5;28;01mreturn\u001b[39;00m \u001b[38;5;241m1\u001b[39m \u001b[38;5;241m+\u001b[39m rec(n \u001b[38;5;241m-\u001b[39mrec(rec(n\u001b[38;5;241m-\u001b[39m\u001b[38;5;241m1\u001b[39m)))\n\u001b[0;32m----> 9\u001b[0m \u001b[38;5;28;01mreturn\u001b[39;00m \u001b[43mrec\u001b[49m\u001b[43m(\u001b[49m\u001b[43mn\u001b[49m\u001b[43m)\u001b[49m\n",
      "Cell \u001b[0;32mIn[21], line 8\u001b[0m, in \u001b[0;36mrec_nth_golomb.<locals>.rec\u001b[0;34m(n)\u001b[0m\n\u001b[1;32m      6\u001b[0m \u001b[38;5;28;01mif\u001b[39;00m n \u001b[38;5;241m==\u001b[39m \u001b[38;5;241m1\u001b[39m: \n\u001b[1;32m      7\u001b[0m     \u001b[38;5;28;01mreturn\u001b[39;00m \u001b[38;5;241m1\u001b[39m\n\u001b[0;32m----> 8\u001b[0m \u001b[38;5;28;01mreturn\u001b[39;00m \u001b[38;5;241m1\u001b[39m \u001b[38;5;241m+\u001b[39m rec(n \u001b[38;5;241m-\u001b[39mrec(\u001b[43mrec\u001b[49m\u001b[43m(\u001b[49m\u001b[43mn\u001b[49m\u001b[38;5;241;43m-\u001b[39;49m\u001b[38;5;241;43m1\u001b[39;49m\u001b[43m)\u001b[49m))\n",
      "Cell \u001b[0;32mIn[21], line 8\u001b[0m, in \u001b[0;36mrec_nth_golomb.<locals>.rec\u001b[0;34m(n)\u001b[0m\n\u001b[1;32m      6\u001b[0m \u001b[38;5;28;01mif\u001b[39;00m n \u001b[38;5;241m==\u001b[39m \u001b[38;5;241m1\u001b[39m: \n\u001b[1;32m      7\u001b[0m     \u001b[38;5;28;01mreturn\u001b[39;00m \u001b[38;5;241m1\u001b[39m\n\u001b[0;32m----> 8\u001b[0m \u001b[38;5;28;01mreturn\u001b[39;00m \u001b[38;5;241m1\u001b[39m \u001b[38;5;241m+\u001b[39m rec(n \u001b[38;5;241m-\u001b[39mrec(\u001b[43mrec\u001b[49m\u001b[43m(\u001b[49m\u001b[43mn\u001b[49m\u001b[38;5;241;43m-\u001b[39;49m\u001b[38;5;241;43m1\u001b[39;49m\u001b[43m)\u001b[49m))\n",
      "    \u001b[0;31m[... skipping similar frames: rec_nth_golomb.<locals>.rec at line 8 (1482 times)]\u001b[0m\n",
      "Cell \u001b[0;32mIn[21], line 8\u001b[0m, in \u001b[0;36mrec_nth_golomb.<locals>.rec\u001b[0;34m(n)\u001b[0m\n\u001b[1;32m      6\u001b[0m \u001b[38;5;28;01mif\u001b[39;00m n \u001b[38;5;241m==\u001b[39m \u001b[38;5;241m1\u001b[39m: \n\u001b[1;32m      7\u001b[0m     \u001b[38;5;28;01mreturn\u001b[39;00m \u001b[38;5;241m1\u001b[39m\n\u001b[0;32m----> 8\u001b[0m \u001b[38;5;28;01mreturn\u001b[39;00m \u001b[38;5;241m1\u001b[39m \u001b[38;5;241m+\u001b[39m rec(n \u001b[38;5;241m-\u001b[39mrec(\u001b[43mrec\u001b[49m\u001b[43m(\u001b[49m\u001b[43mn\u001b[49m\u001b[38;5;241;43m-\u001b[39;49m\u001b[38;5;241;43m1\u001b[39;49m\u001b[43m)\u001b[49m))\n",
      "Cell \u001b[0;32mIn[21], line 6\u001b[0m, in \u001b[0;36mrec_nth_golomb.<locals>.rec\u001b[0;34m(n)\u001b[0m\n\u001b[1;32m      4\u001b[0m \u001b[38;5;129m@lru_cache\u001b[39m(\u001b[38;5;28mint\u001b[39m(\u001b[38;5;241m10e6\u001b[39m))\n\u001b[1;32m      5\u001b[0m \u001b[38;5;28;01mdef\u001b[39;00m \u001b[38;5;21mrec\u001b[39m(n):\n\u001b[0;32m----> 6\u001b[0m     \u001b[38;5;28;01mif\u001b[39;00m \u001b[43mn\u001b[49m\u001b[43m \u001b[49m\u001b[38;5;241;43m==\u001b[39;49m\u001b[43m \u001b[49m\u001b[38;5;241;43m1\u001b[39;49m: \n\u001b[1;32m      7\u001b[0m         \u001b[38;5;28;01mreturn\u001b[39;00m \u001b[38;5;241m1\u001b[39m\n\u001b[1;32m      8\u001b[0m     \u001b[38;5;28;01mreturn\u001b[39;00m \u001b[38;5;241m1\u001b[39m \u001b[38;5;241m+\u001b[39m rec(n \u001b[38;5;241m-\u001b[39mrec(rec(n\u001b[38;5;241m-\u001b[39m\u001b[38;5;241m1\u001b[39m)))\n",
      "\u001b[0;31mRecursionError\u001b[0m: maximum recursion depth exceeded in comparison"
     ]
    }
   ],
   "source": [
    "from functools import lru_cache\n",
    "\n",
    "def rec_nth_golomb(n):\n",
    "    @lru_cache(int(10e6))\n",
    "    def rec(n):\n",
    "        if n == 1: \n",
    "            return 1\n",
    "        return 1 + rec(n -rec(rec(n-1)))\n",
    "    return rec(n)\n",
    "\n",
    "rec_nth_golomb(1e8)"
   ]
  },
  {
   "cell_type": "code",
   "execution_count": 2,
   "metadata": {},
   "outputs": [],
   "source": [
    "def golomb_dp(n):\n",
    "    n = int(n)\n",
    "    if n == 1:\n",
    "        return 1\n",
    "\n",
    "    # Create a list to store Golomb sequence values\n",
    "    golomb_seq = [0] * (n + 1)\n",
    "    golomb_seq[1] = 1\n",
    "\n",
    "    for i in range(2, n + 1):\n",
    "        golomb_seq[i] = 1 + golomb_seq[i - golomb_seq[golomb_seq[i - 1]]]\n",
    "\n",
    "    return golomb_seq[n]"
   ]
  },
  {
   "cell_type": "code",
   "execution_count": 13,
   "metadata": {},
   "outputs": [
    {
     "data": {
      "text/plain": [
       "0.000581604872000753"
      ]
     },
     "execution_count": 13,
     "metadata": {},
     "output_type": "execute_result"
    }
   ],
   "source": [
    "import timeit\n",
    "\n",
    "def timed_g():\n",
    "    return generate_n_golomb(1e4)\n",
    "\n",
    "timeit.timeit(timed_g, number=1000)/1000"
   ]
  },
  {
   "cell_type": "code",
   "execution_count": 37,
   "metadata": {},
   "outputs": [
    {
     "data": {
      "text/plain": [
       "[1, 2, 2, 3, 3]"
      ]
     },
     "execution_count": 37,
     "metadata": {},
     "output_type": "execute_result"
    }
   ],
   "source": [
    "generate_n_golomb(5)"
   ]
  },
  {
   "cell_type": "code",
   "execution_count": 3,
   "metadata": {},
   "outputs": [],
   "source": [
    "a = generate_n_golomb(1e8+1)"
   ]
  },
  {
   "cell_type": "code",
   "execution_count": 2,
   "metadata": {},
   "outputs": [],
   "source": [
    "threshold = 1e18"
   ]
  },
  {
   "cell_type": "code",
   "execution_count": 6,
   "metadata": {},
   "outputs": [
    {
     "data": {
      "text/plain": [
       "False"
      ]
     },
     "execution_count": 6,
     "metadata": {},
     "output_type": "execute_result"
    }
   ],
   "source": [
    "a[-1]*105729>threshold"
   ]
  },
  {
   "cell_type": "code",
   "execution_count": 5,
   "metadata": {},
   "outputs": [],
   "source": [
    "# Products[i] = Golomb[1]*1 + Golomb[2]*2 + ... + Golomb[i]*i\n",
    "def calc_prod(i, a: list):\n",
    "    idx = 1\n",
    "    tot = 0\n",
    "    while idx<i:\n",
    "        tot += a[idx-1]*idx\n",
    "        idx += 1\n",
    "    return tot    "
   ]
  },
  {
   "cell_type": "code",
   "execution_count": 29,
   "metadata": {},
   "outputs": [],
   "source": [
    "products = []\n",
    "curr = 0\n",
    "idx = 0\n",
    "while curr < threshold+1:\n",
    "    curr += a[idx] * (idx+1)\n",
    "    products.append(curr)\n",
    "    idx += 1"
   ]
  },
  {
   "cell_type": "markdown",
   "metadata": {},
   "source": [
    "I know that products[i] tells me that Golomb[products[i]] appears at least i-times in the sequence; for instance products[4] = 11 means that all G[x>11] appear at least 4 times in the sequence.\n",
    "\n",
    "To know G[i=10] I know it's between products[2]=5 and products[3]=11; I know that any number 6 <= x <= 11 appears 3 times in the sequence.\n",
    "\n",
    "So I know that:\n",
    "$\n",
    "G[1]*1 + G[2]*2 = 5 \\\\\n",
    "G[1]*1 + G[2]*2 + G[3]*3 = 11 \\\\\n",
    "$\n",
    "and:\n",
    "$\n",
    "G[1] + G[2] = 3 \\\\\n",
    "G[1] + G[2] + G[3] = 5 \\\\\n",
    "$\n"
   ]
  },
  {
   "cell_type": "markdown",
   "metadata": {},
   "source": [
    "$\n",
    "G[1] + G[2] = 3 \\\\\n",
    "G[1] + G[2] + G[3] = 5 \\\\\n",
    "G[1] + G[2] + G[3] + G[4] = 8 \\\\\n",
    "G[1] + G[2] + G[3] + G[4] + G[5] = 11\n",
    "$\n",
    "\n"
   ]
  },
  {
   "cell_type": "code",
   "execution_count": 37,
   "metadata": {},
   "outputs": [
    {
     "data": {
      "text/plain": [
       "[0, 1, 5, 11, 23, 38, 62, 90, 122, 167]"
      ]
     },
     "execution_count": 37,
     "metadata": {},
     "output_type": "execute_result"
    }
   ],
   "source": [
    "products[:10]"
   ]
  },
  {
   "cell_type": "code",
   "execution_count": 43,
   "metadata": {},
   "outputs": [
    {
     "name": "stdout",
     "output_type": "stream",
     "text": [
      "1000000 6137 3792638403 2344023456102415\n",
      "2000000 9419 11642479607 14391201349694894\n",
      "3000000 12102 22437898167 41603009912867973\n",
      "4000000 14458 35739453276 88354593378726651\n",
      "5000000 16596 51281472859 158471803016495259\n",
      "6000000 18576 68878895033 255422576996674145\n",
      "7000000 20433 88392497852 382415739373324908\n",
      "8000000 22191 109712161761 542459723141481692\n",
      "9000000 23867 132747742086 738401818567438811\n",
      "10000000 25474 157423553071 972955874693962102\n",
      "56098610614277014\n"
     ]
    }
   ],
   "source": [
    "import math\n",
    "\n",
    "def golomb_sequence(limit):\n",
    "    \"\"\"\n",
    "    Generate the Golomb sequence up to the given limit.\n",
    "    Returns the Golomb sequence, cumulative sums, and cumulative products.\n",
    "    \"\"\"\n",
    "    golomb = [0, 1]  # G(0) is unused, G(1) = 1\n",
    "    sums = [0, 1]    # Cumulative sums\n",
    "    products = [0, 1]  # Cumulative weighted sums (i * G(i))\n",
    "    \n",
    "    # Compute the sequence until products exceed the cubic limit\n",
    "    cubic_limit = limit ** 3\n",
    "    while products[-1] < cubic_limit:\n",
    "        i = len(golomb)\n",
    "        g = 1 + golomb[i - golomb[golomb[i - 1]]]\n",
    "        golomb.append(g)\n",
    "        sums.append(sums[-1] + g)\n",
    "        products.append(products[-1] + g * i)\n",
    "        if i % 1e6 == 0:\n",
    "            print(i, g, sums[-1], products[-1])\n",
    "    \n",
    "    return golomb, sums, products\n",
    "\n",
    "def find_g_n_cubed(n_cubed, products, sums):\n",
    "    \"\"\"\n",
    "    Find G(n^3) using linear interpolation.\n",
    "    \"\"\"\n",
    "    # Find the interval for n^3\n",
    "    index = 1\n",
    "    # Use binary search to find the interval for n^3\n",
    "    low, high = 0, len(products) - 1\n",
    "    while low < high:\n",
    "        mid = (low + high) // 2\n",
    "        if products[mid] < n_cubed:\n",
    "            low = mid + 1\n",
    "        else:\n",
    "            high = mid\n",
    "    index = low\n",
    "\n",
    "    # Linear interpolation\n",
    "    from_products = products[index - 1]\n",
    "    to_products = products[index]\n",
    "    ratio = (n_cubed - from_products) / (to_products - from_products)\n",
    "\n",
    "    from_sums = sums[index - 1]\n",
    "    to_sums = sums[index]\n",
    "    g_n_cubed = from_sums + math.ceil(ratio * (to_sums - from_sums))\n",
    "    \n",
    "    return g_n_cubed\n",
    "\n",
    "def sum_g_n_cubed(limit):\n",
    "    \"\"\"\n",
    "    Compute the sum of G(n^3) for 1 <= n < limit.\n",
    "    \"\"\"\n",
    "    golomb, sums, products = golomb_sequence(limit)\n",
    "    total_sum = 0\n",
    "\n",
    "    for n in range(1, limit):\n",
    "        n_cubed = n ** 3\n",
    "        g_n_cubed = find_g_n_cubed(n_cubed, products, sums)\n",
    "        total_sum += g_n_cubed\n",
    "\n",
    "    return total_sum\n",
    "\n",
    "# Input limit (1 <= n < 10^6)\n",
    "limit = 10**6\n",
    "result = sum_g_n_cubed(limit)\n",
    "print(result)\n"
   ]
  },
  {
   "cell_type": "code",
   "execution_count": 8,
   "metadata": {},
   "outputs": [
    {
     "data": {
      "text/plain": [
       "438744"
      ]
     },
     "execution_count": 8,
     "metadata": {},
     "output_type": "execute_result"
    }
   ],
   "source": [
    "a[int(1e9)]"
   ]
  },
  {
   "cell_type": "code",
   "execution_count": 19,
   "metadata": {},
   "outputs": [
    {
     "data": {
      "text/plain": [
       "[21,\n",
       " 21,\n",
       " 21,\n",
       " 21,\n",
       " 21,\n",
       " 21,\n",
       " 22,\n",
       " 22,\n",
       " 22,\n",
       " 22,\n",
       " 22,\n",
       " 22,\n",
       " 22,\n",
       " 22,\n",
       " 23,\n",
       " 23,\n",
       " 23,\n",
       " 23,\n",
       " 23,\n",
       " 23,\n",
       " 23,\n",
       " 23,\n",
       " 24,\n",
       " 24,\n",
       " 24,\n",
       " 24,\n",
       " 24,\n",
       " 24,\n",
       " 24,\n",
       " 24]"
      ]
     },
     "execution_count": 19,
     "metadata": {},
     "output_type": "execute_result"
    }
   ],
   "source": [
    "a[100:130]"
   ]
  },
  {
   "cell_type": "code",
   "execution_count": 28,
   "metadata": {},
   "outputs": [],
   "source": [
    "golden = (1 + 5 ** 0.5) / 2"
   ]
  },
  {
   "cell_type": "code",
   "execution_count": 43,
   "metadata": {},
   "outputs": [
    {
     "ename": "TypeError",
     "evalue": "can't multiply sequence by non-int of type 'float'",
     "output_type": "error",
     "traceback": [
      "\u001b[0;31m---------------------------------------------------------------------------\u001b[0m",
      "\u001b[0;31mTypeError\u001b[0m                                 Traceback (most recent call last)",
      "Cell \u001b[0;32mIn[43], line 1\u001b[0m\n\u001b[0;32m----> 1\u001b[0m \u001b[43mgolomb_dp\u001b[49m\u001b[43m(\u001b[49m\u001b[38;5;241;43m10e7\u001b[39;49m\u001b[43m)\u001b[49m\n",
      "Cell \u001b[0;32mIn[42], line 6\u001b[0m, in \u001b[0;36mgolomb_dp\u001b[0;34m(n)\u001b[0m\n\u001b[1;32m      3\u001b[0m     \u001b[38;5;28;01mreturn\u001b[39;00m \u001b[38;5;241m1\u001b[39m\n\u001b[1;32m      5\u001b[0m \u001b[38;5;66;03m# Create a list to store Golomb sequence values\u001b[39;00m\n\u001b[0;32m----> 6\u001b[0m golomb_seq \u001b[38;5;241m=\u001b[39m \u001b[43m[\u001b[49m\u001b[38;5;241;43m0\u001b[39;49m\u001b[43m]\u001b[49m\u001b[43m \u001b[49m\u001b[38;5;241;43m*\u001b[39;49m\u001b[43m \u001b[49m\u001b[43m(\u001b[49m\u001b[43mn\u001b[49m\u001b[43m \u001b[49m\u001b[38;5;241;43m+\u001b[39;49m\u001b[43m \u001b[49m\u001b[38;5;241;43m1\u001b[39;49m\u001b[43m)\u001b[49m\n\u001b[1;32m      7\u001b[0m golomb_seq[\u001b[38;5;241m1\u001b[39m] \u001b[38;5;241m=\u001b[39m \u001b[38;5;241m1\u001b[39m\n\u001b[1;32m      9\u001b[0m \u001b[38;5;28;01mfor\u001b[39;00m i \u001b[38;5;129;01min\u001b[39;00m \u001b[38;5;28mrange\u001b[39m(\u001b[38;5;241m2\u001b[39m, n \u001b[38;5;241m+\u001b[39m \u001b[38;5;241m1\u001b[39m):\n",
      "\u001b[0;31mTypeError\u001b[0m: can't multiply sequence by non-int of type 'float'"
     ]
    }
   ],
   "source": [
    "golomb_dp(10e7)"
   ]
  },
  {
   "cell_type": "code",
   "execution_count": 16,
   "metadata": {},
   "outputs": [],
   "source": [
    "tot = 0\n",
    "for i in range(1, 1000):\n",
    "    tot += a[int(i**3)-1]"
   ]
  },
  {
   "cell_type": "code",
   "execution_count": 17,
   "metadata": {},
   "outputs": [
    {
     "data": {
      "text/plain": [
       "153506976"
      ]
     },
     "execution_count": 17,
     "metadata": {},
     "output_type": "execute_result"
    }
   ],
   "source": [
    "tot"
   ]
  }
 ],
 "metadata": {
  "kernelspec": {
   "display_name": "numpy_ex",
   "language": "python",
   "name": "python3"
  },
  "language_info": {
   "codemirror_mode": {
    "name": "ipython",
    "version": 3
   },
   "file_extension": ".py",
   "mimetype": "text/x-python",
   "name": "python",
   "nbconvert_exporter": "python",
   "pygments_lexer": "ipython3",
   "version": "3.11.10"
  }
 },
 "nbformat": 4,
 "nbformat_minor": 2
}
