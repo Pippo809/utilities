{
 "cells": [
  {
   "cell_type": "markdown",
   "metadata": {},
   "source": [
    "The divisors of $12$ are: $1, 2, 3, 4, 6$ and $12$.  \n",
    "The largest divisor of $12$ that does not exceed the square root of $12$ is $3$.  \n",
    "We shall call the largest divisor of an integer $n$ that does not exceed the square root of $n$ the pseudo square root ($\\operatorname{PSR}$) of $n$.  \n",
    "It can be seen that $\\operatorname{PSR}(3102) = 47$.  \n",
    "\n",
    "Let $p$ be the product of the primes below $190$.  \n",
    "Find $\\operatorname{PSR}(p) \\bmod 10^{16}$.\n"
   ]
  },
  {
   "cell_type": "code",
   "execution_count": 1,
   "metadata": {},
   "outputs": [],
   "source": [
    "def is_prime(n, primes):\n",
    "    for p in primes:\n",
    "        if n%p == 0:\n",
    "            return False\n",
    "        elif p*p > n:\n",
    "            return True\n",
    "    return True\n",
    "\n",
    "def prime_sums(n):\n",
    "    tot = 0\n",
    "    primes = []\n",
    "    curr = 2\n",
    "    while curr < n:\n",
    "        if is_prime(curr, primes):\n",
    "            primes.append(curr)\n",
    "            tot += curr\n",
    "        curr += 1\n",
    "    return tot\n",
    "\n",
    "def prime_mult(n):\n",
    "    tot = 2\n",
    "    primes = [2]\n",
    "    curr = 3\n",
    "    while curr < n:\n",
    "        if is_prime(curr, primes):\n",
    "            primes.append(curr)\n",
    "            tot *= curr\n",
    "        curr += 1\n",
    "    return tot, primes\n",
    "\n",
    "tot, primes_ = prime_mult(189)\n",
    "# _, primes = prime_mult(1e6)"
   ]
  },
  {
   "cell_type": "code",
   "execution_count": 117,
   "metadata": {},
   "outputs": [
    {
     "data": {
      "text/plain": [
       "167.47203410109333"
      ]
     },
     "execution_count": 117,
     "metadata": {},
     "output_type": "execute_result"
    }
   ],
   "source": [
    "log(tot)"
   ]
  },
  {
   "cell_type": "code",
   "execution_count": 142,
   "metadata": {},
   "outputs": [
    {
     "data": {
      "text/plain": [
       "[2,\n",
       " 3,\n",
       " 5,\n",
       " 7,\n",
       " 11,\n",
       " 13,\n",
       " 17,\n",
       " 19,\n",
       " 23,\n",
       " 29,\n",
       " 31,\n",
       " 37,\n",
       " 41,\n",
       " 43,\n",
       " 47,\n",
       " 53,\n",
       " 59,\n",
       " 61,\n",
       " 67,\n",
       " 71,\n",
       " 73,\n",
       " 79,\n",
       " 83,\n",
       " 89,\n",
       " 97,\n",
       " 101,\n",
       " 103,\n",
       " 107,\n",
       " 109,\n",
       " 113,\n",
       " 127,\n",
       " 131,\n",
       " 137,\n",
       " 139,\n",
       " 149,\n",
       " 151,\n",
       " 157,\n",
       " 163,\n",
       " 167,\n",
       " 173,\n",
       " 179,\n",
       " 181]"
      ]
     },
     "execution_count": 142,
     "metadata": {},
     "output_type": "execute_result"
    }
   ],
   "source": [
    "primes_"
   ]
  },
  {
   "cell_type": "code",
   "execution_count": 2,
   "metadata": {},
   "outputs": [
    {
     "name": "stdout",
     "output_type": "stream",
     "text": [
      "212696540428114146996331300972455664564185985102479158510\n",
      "-2253306722125996696789470242428729986\n",
      "2393131179236960196384890789927179111\n"
     ]
    }
   ],
   "source": [
    "from decimal import Decimal\n",
    "from math import isqrt, pow, sqrt\n",
    "import gmpy2\n",
    "\n",
    "print(int(sqrt(Decimal(tot))**2) - tot)\n",
    "print(isqrt(tot)**2-tot)\n",
    "\n",
    "tot_gmp = gmpy2.mpz(tot)\n",
    "tot_isqrt = gmpy2.isqrt(tot_gmp-1)\n",
    "print((gmpy2.isqrt(tot_gmp)+1)**2-tot_gmp)"
   ]
  },
  {
   "cell_type": "code",
   "execution_count": 23,
   "metadata": {},
   "outputs": [
    {
     "data": {
      "text/plain": [
       "mpz(32107524693221992576301272832158863280)"
      ]
     },
     "execution_count": 23,
     "metadata": {},
     "output_type": "execute_result"
    }
   ],
   "source": [
    "tot_isqrt"
   ]
  },
  {
   "cell_type": "code",
   "execution_count": 55,
   "metadata": {},
   "outputs": [
    {
     "data": {
      "text/plain": [
       "43"
      ]
     },
     "execution_count": 55,
     "metadata": {},
     "output_type": "execute_result"
    }
   ],
   "source": [
    "len(primes_)"
   ]
  },
  {
   "cell_type": "code",
   "execution_count": 69,
   "metadata": {},
   "outputs": [
    {
     "data": {
      "text/plain": [
       "1030893141925860181862269517129795788969870126854546486002020072809828450304"
      ]
     },
     "execution_count": 69,
     "metadata": {},
     "output_type": "execute_result"
    }
   ],
   "source": [
    "int(tot**0.5)**2"
   ]
  },
  {
   "cell_type": "code",
   "execution_count": 148,
   "metadata": {},
   "outputs": [
    {
     "data": {
      "text/plain": [
       "5397346292805549782720214077673687806275517530364350655459511599582614290"
      ]
     },
     "execution_count": 148,
     "metadata": {},
     "output_type": "execute_result"
    }
   ],
   "source": [
    "tot"
   ]
  },
  {
   "cell_type": "code",
   "execution_count": 35,
   "metadata": {},
   "outputs": [
    {
     "data": {
      "text/plain": [
       "55.695601262577284"
      ]
     },
     "execution_count": 35,
     "metadata": {},
     "output_type": "execute_result"
    }
   ],
   "source": [
    "3102**0.5"
   ]
  },
  {
   "cell_type": "code",
   "execution_count": 149,
   "metadata": {},
   "outputs": [
    {
     "name": "stdout",
     "output_type": "stream",
     "text": [
      "Factors of 3102: [1, 2, 3, 6, 11, 22, 33, 47, 66, 94, 141, 282, 517, 1034, 1551, 3102]\n"
     ]
    }
   ],
   "source": [
    "def find_factors(n):\n",
    "    if n == 5397346292805549782720214077673687806275517530364350655459511599582614290:\n",
    "        return primes_\n",
    "    factors = []\n",
    "    for i in range(1, int(n**0.5) + 1):\n",
    "        if n % i == 0:\n",
    "            factors.append(i)\n",
    "            if i != n // i:\n",
    "                factors.append(n // i)\n",
    "    return sorted(factors)\n",
    "\n",
    "# Example usage\n",
    "number = 3102\n",
    "factors = find_factors(number)\n",
    "print(f\"Factors of {number}: {factors}\")"
   ]
  },
  {
   "cell_type": "code",
   "execution_count": 61,
   "metadata": {},
   "outputs": [
    {
     "data": {
      "text/plain": [
       "1307674368000"
      ]
     },
     "execution_count": 61,
     "metadata": {},
     "output_type": "execute_result"
    }
   ],
   "source": [
    "from math import factorial\n",
    "\n",
    "len(\"60415263063373835637355132068513997507264512000000000\")\n",
    "factorial(15)"
   ]
  },
  {
   "cell_type": "code",
   "execution_count": 119,
   "metadata": {},
   "outputs": [
    {
     "data": {
      "text/plain": [
       "83.73601705054666"
      ]
     },
     "execution_count": 119,
     "metadata": {},
     "output_type": "execute_result"
    }
   ],
   "source": [
    "log(tot_isqrt)"
   ]
  },
  {
   "cell_type": "code",
   "execution_count": 141,
   "metadata": {},
   "outputs": [
    {
     "data": {
      "text/plain": [
       "55.69560126257729"
      ]
     },
     "execution_count": 141,
     "metadata": {},
     "output_type": "execute_result"
    }
   ],
   "source": [
    "import math\n",
    "math.exp(log(3102)/2)"
   ]
  },
  {
   "cell_type": "code",
   "execution_count": 113,
   "metadata": {},
   "outputs": [
    {
     "data": {
      "text/plain": [
       "172.72430752913996"
      ]
     },
     "execution_count": 113,
     "metadata": {},
     "output_type": "execute_result"
    }
   ],
   "source": [
    "log(tot)"
   ]
  },
  {
   "cell_type": "code",
   "execution_count": 144,
   "metadata": {},
   "outputs": [],
   "source": [
    "factors = find_factors(3102)"
   ]
  },
  {
   "cell_type": "code",
   "execution_count": 7,
   "metadata": {},
   "outputs": [],
   "source": []
  },
  {
   "cell_type": "code",
   "execution_count": 11,
   "metadata": {},
   "outputs": [
    {
     "data": {
      "text/plain": [
       "2305567963945518424753102147331756070"
      ]
     },
     "execution_count": 11,
     "metadata": {},
     "output_type": "execute_result"
    }
   ],
   "source": [
    "tot"
   ]
  },
  {
   "cell_type": "code",
   "execution_count": 39,
   "metadata": {},
   "outputs": [
    {
     "name": "stdout",
     "output_type": "stream",
     "text": [
      "[0.69314718 1.09861229 1.60943791 1.94591015 2.39789527 2.56494936\n",
      " 2.83321334 2.94443898 3.13549422 3.36729583 3.4339872  3.61091791\n",
      " 3.71357207 3.76120012 3.8501476  3.97029191 4.07753744 4.11087386\n",
      " 4.20469262 4.26267988 4.29045944 4.36944785 4.41884061 4.48863637\n",
      " 4.57471098]\n",
      "[0.69314718 1.09861229 1.60943791 1.94591015 2.39789527 2.56494936\n",
      " 2.83321334 2.94443898 3.13549422 3.36729583 3.4339872  3.61091791\n",
      " 3.71357207 3.76120012 3.8501476  3.97029191 4.07753744 4.11087386\n",
      " 4.20469262 4.26267988 4.29045944 4.36944785 4.41884061 4.48863637\n",
      " 4.57471098]\n",
      "41.86419519953196\n",
      "-inf\n",
      "        message: Optimization terminated successfully. (HiGHS Status 7: Optimal)\n",
      "        success: True\n",
      "         status: 0\n",
      "            fun: -41.860287111555444\n",
      "              x: [ 1.000e+00  1.000e+00 ...  0.000e+00  1.000e+00]\n",
      " mip_node_count: 410\n",
      " mip_dual_bound: -41.86419519953192\n",
      "        mip_gap: 9.336027643723384e-05\n",
      "[1. 1. 1. 0. 0. 0. 1. 1. 0. 0. 0. 1. 1. 0. 0. 1. 1. 1. 1. 0. 0. 0. 1. 0.\n",
      " 1.]\n",
      "[ 2  3  5 17 19 37 41 53 59 61 67 83 97]\n",
      "1512487184248185270 1518409682511777986 41.860287111555444 41.86419519953196\n",
      "2487184248185270\n"
     ]
    }
   ],
   "source": [
    "# I have to find the largest combinations of primes(under 191) \n",
    "# that yields at most tot**0.5 = 32107524693221992576301272832158863280\n",
    "from scipy.optimize import milp\n",
    "from math import log\n",
    "import numpy as np\n",
    "from scipy.optimize import Bounds, LinearConstraint\n",
    "import math\n",
    "\n",
    "tot, primes_ = prime_mult(100)\n",
    "factors = primes_\n",
    "\n",
    "c = [np.log(x, dtype=float) for x in factors[:]]\n",
    "number = np.sum(c)\n",
    "\n",
    "c = np.array(c)\n",
    "integrality = np.ones_like(c)\n",
    "b_l = np.zeros_like(c)\n",
    "b_u = np.ones_like(c)\n",
    "\n",
    "A = np.copy(c)\n",
    "ub = number/2.\n",
    "lb = -np.inf\n",
    "\n",
    "print(c)\n",
    "print(A)\n",
    "print(ub)\n",
    "print(lb)\n",
    "\n",
    "constraints = LinearConstraint(A, lb=lb, ub=ub)\n",
    "bounds = Bounds(b_l, b_u)\n",
    "\n",
    "res = milp(c=-c, integrality=integrality, bounds=bounds, constraints=constraints)\n",
    "\n",
    "print(res)\n",
    "print(res.x)\n",
    "\n",
    "out = res.x.astype(bool)\n",
    "\n",
    "best_primes = np.array(factors[:])[out]\n",
    "print(best_primes)\n",
    "\n",
    "out = 1\n",
    "\n",
    "for p in best_primes:\n",
    "    p  = int(p)\n",
    "    out = p*out\n",
    "print(out, math.isqrt(tot), log(out), log(tot)/2)\n",
    "print(out%10**16)"
   ]
  },
  {
   "cell_type": "code",
   "execution_count": 30,
   "metadata": {},
   "outputs": [
    {
     "name": "stdout",
     "output_type": "stream",
     "text": [
      "70746471270782959 1518409682511777986 38.79787905415885 41.86419519953196\n",
      "746471270782959\n"
     ]
    }
   ],
   "source": [
    "# Solve relaxed problem\n",
    "res = milp(c=-c, integrality=np.zeros_like(c), bounds=bounds, constraints=constraints)\n",
    "out = res.x > 0.999\n",
    "best_primes = np.array(factors[:])[out]\n",
    "\n",
    "out = 1\n",
    "\n",
    "for p in best_primes:\n",
    "    p  = int(p)\n",
    "    out = p*out\n",
    "print(out, math.isqrt(tot), log(out), log(tot)/2)\n",
    "print(out%10**16)"
   ]
  },
  {
   "cell_type": "code",
   "execution_count": 17,
   "metadata": {},
   "outputs": [
    {
     "data": {
      "text/plain": [
       "np.float64(2.3055679639455256e+36)"
      ]
     },
     "execution_count": 17,
     "metadata": {},
     "output_type": "execute_result"
    }
   ],
   "source": [
    "np.exp(number)"
   ]
  },
  {
   "cell_type": "code",
   "execution_count": 58,
   "metadata": {},
   "outputs": [
    {
     "name": "stdout",
     "output_type": "stream",
     "text": [
      "Running HiGHS 1.8.0 (git hash: 222cce7): Copyright (c) 2024 HiGHS under MIT licence terms\n",
      "Coefficient ranges:\n",
      "  Matrix [7e-01, 4e+00]\n",
      "  Cost   [7e-01, 4e+00]\n",
      "  Bound  [1e+00, 1e+00]\n",
      "  RHS    [4e+01, 4e+01]\n",
      "\n",
      "Presolve is switched off\n",
      "\n",
      "Solving MIP model with:\n",
      "   1 rows\n",
      "   24 cols (24 binary, 0 integer, 0 implied int., 0 continuous)\n",
      "   24 nonzeros\n",
      "\n",
      "Src: B => Branching; C => Central rounding; F => Feasibility pump; H => Heuristic; L => Sub-MIP;\n",
      "     P => Empty MIP; R => Randomized rounding; S => Solve LP; T => Evaluate node; U => Unbounded;\n",
      "     z => Trivial zero; l => Trivial lower; u => Trivial upper; p => Trivial point\n",
      "\n",
      "        Nodes      |    B&B Tree     |            Objective Bounds              |  Dynamic Constraints |       Work      \n",
      "Src  Proc. InQueue |  Leaves   Expl. | BestBound       BestSol              Gap |   Cuts   InLp Confl. | LpIters     Time\n",
      "\n",
      " z       0       0         0   0.00%   -inf            0                  Large        0     -1      0         0     0.0s\n",
      "MIP-Timing:     0.00018 - starting analytic centre calculation\n",
      " S       0       0         0   0.00%   -79.15367942    -38.19345999     107.24%        0      0      0         0     0.0s\n",
      " R       0       0         0   0.00%   -39.57683971    -38.88660717       1.77%        0      0      0         0     0.0s\n",
      " C       0       0         0   0.00%   -39.57683971    -39.24323583       0.85%       12      5      0         6     0.0s\n",
      " L       0       0         0   0.00%   -39.57683971    -39.57434077       0.01%       44      9      0        12     0.0s\n",
      " L     101      13        41   0.03%   -39.57683971    -39.57434077       0.01%       48      7    152       198     0.1s\n",
      " L     202      24        85   0.11%   -39.57683971    -39.5758269        0.00%       50      8    319       315     0.1s\n",
      " T     314      31       135   0.27%   -39.57683971    -39.57682752       0.00%       56     10    541       799     0.2s\n",
      "\n",
      "Restarting search from the root node\n",
      "\n",
      "Presolve is switched off\n",
      "Model after restart has 1 rows, 24 cols (24 bin., 0 int., 0 impl., 0 cont.), and 24 nonzeros\n",
      "\n",
      "      1655       0         0   0.00%   -39.57683971    -39.57682752       0.00%        3      0      0      4290     0.9s\n",
      "      1655       0         0   0.00%   -39.57683971    -39.57682752       0.00%        3      0      2      4290     0.9s\n",
      "\n",
      "Restarting search from the root node\n",
      "\n",
      "Presolve is switched off\n",
      "Model after restart has 1 rows, 24 cols (24 bin., 0 int., 0 impl., 0 cont.), and 24 nonzeros\n",
      "\n",
      "      3296       0         0   0.00%   -39.57683971    -39.57682752       0.00%        5      0      0      6263     1.2s\n",
      "      3296       0         0   0.00%   -39.57683971    -39.57682752       0.00%        5      0      2      6263     1.2s\n",
      "\n",
      "Restarting search from the root node\n",
      "\n",
      "Presolve is switched off\n",
      "Model after restart has 1 rows, 24 cols (24 bin., 0 int., 0 impl., 0 cont.), and 24 nonzeros\n",
      "\n",
      "      5831       0         0   0.00%   -39.57683971    -39.57682752       0.00%        7      0      0      9098     1.6s\n",
      "      5831       0         0   0.00%   -39.57683971    -39.57682752       0.00%        7      0      2      9098     1.6s\n",
      "\n",
      "Restarting search from the root node\n",
      "\n",
      "Presolve is switched off\n",
      "Model after restart has 1 rows, 24 cols (24 bin., 0 int., 0 impl., 0 cont.), and 24 nonzeros\n",
      "\n",
      "      9827       0         0   0.00%   -39.57683971    -39.57682752       0.00%        6      0      0     13157     2.1s\n",
      "      9827       0         0   0.00%   -39.57683971    -39.57682752       0.00%        6      0      2     13157     2.1s\n",
      "\n",
      "Restarting search from the root node\n",
      "\n",
      "Presolve is switched off\n",
      "Model after restart has 1 rows, 24 cols (24 bin., 0 int., 0 impl., 0 cont.), and 24 nonzeros\n",
      "\n",
      "     17056       0         0   0.00%   -39.57683971    -39.57682752       0.00%        2      0      0     20200     3.1s\n",
      "     17056       0         0   0.00%   -39.57683971    -39.57682752       0.00%        2      0      2     20200     3.1s\n",
      " T   39345    1388      7912   6.62%   -39.57683971    -39.57683409       0.00%      101      7   9104     39953     5.4s\n",
      "     85248    4546     23393  15.37%   -39.57683971    -39.57683409       0.00%      107      6   7530     83401    10.4s\n",
      "\n",
      "        Nodes      |    B&B Tree     |            Objective Bounds              |  Dynamic Constraints |       Work      \n",
      "Src  Proc. InQueue |  Leaves   Expl. | BestBound       BestSol              Gap |   Cuts   InLp Confl. | LpIters     Time\n",
      "\n",
      "    137978    7592     40768  24.12%   -39.57683971    -39.57683409       0.00%      109      5   6771    132949    15.4s\n",
      " T  146158       0     43409 100.00%   -39.57683971    -39.57683971       0.00%       91      4   7853    140589    16.1s\n",
      "    146159       0     43410 100.00%   -39.57683971    -39.57683971       0.00%       91      4   7853    140589    16.1s\n",
      "\n",
      "Solving report\n",
      "  Status            Optimal\n",
      "  Primal bound      -39.5768397103\n",
      "  Dual bound        -39.5768397103\n",
      "  Gap               0% (tolerance: 0%)\n",
      "  P-D integral      0.000187136694171\n",
      "  Solution status   feasible\n",
      "                    -39.5768397103 (objective)\n",
      "                    0 (bound viol.)\n",
      "                    8.77984273725e-07 (int. viol.)\n",
      "                    0 (row viol.)\n",
      "  Timing            16.09 (total)\n",
      "                    0.00 (presolve)\n",
      "                    0.00 (solve)\n",
      "                    0.00 (postsolve)\n",
      "  Max sub-MIP depth 4\n",
      "  Nodes             146159\n",
      "  Repair LPs        1 (0 feasible; 0 iterations)\n",
      "  LP iterations     140589 (total)\n",
      "                    36 (strong br.)\n",
      "                    7584 (separation)\n",
      "                    9530 (heuristics)\n",
      "Optimal prime combination: [ 3  5 11 17 19 23 29 37 47 67 71 73 79 89]\n",
      "3273723627583485 154171144824008979 35.724704455997056 39.57683971028027\n",
      "3273723627583485\n"
     ]
    }
   ],
   "source": [
    "from scipy.optimize import milp\n",
    "from math import log\n",
    "import numpy as np\n",
    "from scipy.optimize import Bounds, LinearConstraint\n",
    "\n",
    "tot, primes_ = prime_mult(95)\n",
    "factors = primes_\n",
    "\n",
    "# Define input values\n",
    "number = tot\n",
    "factors = primes_\n",
    "\n",
    "# Objective coefficients: log(primes) (to maximize their product)\n",
    "c = np.array([log(x) for x in factors])\n",
    "\n",
    "# Define integer constraints (binary variables)\n",
    "integrality = np.ones_like(c)\n",
    "\n",
    "# Define bounds: each prime can either be included (1) or not (0)\n",
    "bounds = Bounds(np.zeros_like(c), np.ones_like(c))\n",
    "\n",
    "# Constraint: log(product of selected primes) <= log(tot**0.5)\n",
    "A = np.copy(c).reshape(1, -1)  # Reshape for LinearConstraint format\n",
    "ub = np.array([log(number) / 2])\n",
    "lb = np.array([-np.inf])  # No lower bound\n",
    "\n",
    "constraints = LinearConstraint(A, lb=lb, ub=ub)\n",
    "\n",
    "# Solve MILP with SCIP\n",
    "res = milp(\n",
    "    c=-c,\n",
    "    integrality=integrality,\n",
    "    bounds=bounds,\n",
    "    constraints=constraints,\n",
    "    options={\"presolve\": False, \"disp\": True, \"mip_rel_gap\": 1e-60},\n",
    ")\n",
    "\n",
    "# Extract solution\n",
    "out = res.x.astype(bool)\n",
    "best_primes = np.array(factors)[out]\n",
    "\n",
    "# Output best prime combination\n",
    "print(\"Optimal prime combination:\", best_primes)\n",
    "out = 1\n",
    "\n",
    "for p in best_primes:\n",
    "    p  = int(p)\n",
    "    out = p*out\n",
    "    out %= 10**16\n",
    "print(out, math.isqrt(tot), log(out), log(tot)/2)\n",
    "print(out%10**16)"
   ]
  },
  {
   "cell_type": "code",
   "execution_count": 54,
   "metadata": {},
   "outputs": [
    {
     "name": "stdout",
     "output_type": "stream",
     "text": [
      "Prime factors of 4170926013430326: [2, 3, 695154335571721]\n"
     ]
    }
   ],
   "source": [
    "def prime_factors(n):\n",
    "    i = 2\n",
    "    factors = []\n",
    "    while i * i <= n:\n",
    "        if n % i:\n",
    "            i += 1\n",
    "        else:\n",
    "            n //= i\n",
    "            factors.append(i)\n",
    "    if n > 1:\n",
    "        factors.append(n)\n",
    "    return factors\n",
    "\n",
    "# Example usage\n",
    "number_to_decompose = 4170926013430326\n",
    "factors = prime_factors(number_to_decompose)\n",
    "print(f\"Prime factors of {number_to_decompose}: {factors}\")"
   ]
  },
  {
   "cell_type": "code",
   "execution_count": null,
   "metadata": {},
   "outputs": [],
   "source": [
    "from pyscipopt import Model\n",
    "from math import log\n",
    "import numpy as np\n",
    "\n",
    "# Define input values\n",
    "number = tot\n",
    "factors = primes_\n",
    "\n",
    "# Create SCIP model\n",
    "model = Model(\"Maximize Prime Product\")\n",
    "\n",
    "# Create binary decision variables\n",
    "x = {i: model.addVar(vtype=\"B\", name=f\"x_{i}\") for i in range(len(factors))}\n",
    "\n",
    "# Set objective: maximize sum of log(primes)\n",
    "model.setObjective(sum(log(factors[i]) * x[i] for i in range(len(factors))), \"maximize\")\n",
    "\n",
    "# Constraint: log(product) <= log(tot**0.5)\n",
    "model.addCons(sum(log(factors[i]) * x[i] for i in range(len(factors))) <= log(number) / 2)\n",
    "\n",
    "# Solve the MILP\n",
    "model.optimize()\n",
    "\n",
    "# Extract results\n",
    "best_primes = [factors[i] for i in range(len(factors)) if model.getVal(x[i]) > 0.5]\n",
    "print(\"Optimal prime combination:\", best_primes)\n"
   ]
  },
  {
   "cell_type": "code",
   "execution_count": 21,
   "metadata": {},
   "outputs": [
    {
     "name": "stdout",
     "output_type": "stream",
     "text": [
      "2803119896185 2803269796341 28.661754161432942 28.661807636187536\n",
      "2803119896185\n"
     ]
    }
   ],
   "source": [
    "import math\n",
    "out = 1\n",
    "\n",
    "for p in best_primes:\n",
    "    p  = int(p)\n",
    "    out = p*out\n",
    "print(out, math.isqrt(tot), log(out), log(tot)/2)\n",
    "print(out%10**16)"
   ]
  },
  {
   "cell_type": "code",
   "execution_count": 5,
   "metadata": {},
   "outputs": [
    {
     "data": {
      "text/plain": [
       "8409177581024365"
      ]
     },
     "execution_count": 5,
     "metadata": {},
     "output_type": "execute_result"
    }
   ],
   "source": [
    "1518409177581024365%10**16"
   ]
  },
  {
   "cell_type": "code",
   "execution_count": 9,
   "metadata": {},
   "outputs": [
    {
     "data": {
      "text/plain": [
       "True"
      ]
     },
     "execution_count": 9,
     "metadata": {},
     "output_type": "execute_result"
    }
   ],
   "source": [
    "8409177581024365 > out%10**16"
   ]
  },
  {
   "cell_type": "code",
   "execution_count": 60,
   "metadata": {},
   "outputs": [
    {
     "name": "stdout",
     "output_type": "stream",
     "text": [
      "1096883702440585\n"
     ]
    }
   ],
   "source": [
    "def int_sqrt(n):\n",
    "    if n == 0:\n",
    "        return 0\n",
    "    x = 2 ** ((n.bit_length() + 1) >> 1)\n",
    "    while True:\n",
    "        y = (x + n // x) >> 1\n",
    "        if y >= x:\n",
    "            return x\n",
    "        x = y\n",
    "\n",
    "def get_prime(n):\n",
    "    pr = [2]\n",
    "    for i in range(3, n + 1, 2):\n",
    "        for p in pr:\n",
    "            if p * p > i:\n",
    "                pr.append(i)\n",
    "                break\n",
    "            if i % p == 0:\n",
    "                break\n",
    "    return pr\n",
    "\n",
    "N = 190\n",
    "mod = 10 ** 16\n",
    "pr = get_prime(N)\n",
    "lm, rm = [1], [1]\n",
    "for p in pr[:len(pr) >> 1]:\n",
    "    lm += [x * p for x in lm]\n",
    "for p in pr[len(pr) >> 1:]:\n",
    "    rm += [x * p for x in rm]\n",
    "sq = int_sqrt(lm[-1] * rm[-1])\n",
    "lm.sort()\n",
    "rm.sort()\n",
    "r = len(rm) - 1\n",
    "ans = 0\n",
    "for l in range(len(lm)):\n",
    "    while r >= 0 and lm[l] * rm[r] > sq:\n",
    "        r -= 1\n",
    "    if r < 0:\n",
    "        break\n",
    "    ans = max(ans, lm[l] * rm[r])\n",
    "ans %= mod\n",
    "print(ans)\n",
    "\n"
   ]
  }
 ],
 "metadata": {
  "kernelspec": {
   "display_name": "numpy_ex",
   "language": "python",
   "name": "python3"
  },
  "language_info": {
   "codemirror_mode": {
    "name": "ipython",
    "version": 3
   },
   "file_extension": ".py",
   "mimetype": "text/x-python",
   "name": "python",
   "nbconvert_exporter": "python",
   "pygments_lexer": "ipython3",
   "version": "3.11.10"
  }
 },
 "nbformat": 4,
 "nbformat_minor": 2
}
