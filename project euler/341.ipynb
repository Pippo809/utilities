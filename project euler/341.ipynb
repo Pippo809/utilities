{
 "cells": [
  {
   "cell_type": "markdown",
   "metadata": {},
   "source": [
    "# Golomb Self Describing Sequence\n",
    "The Golomb's self-describing sequence $G(n)$ is the only nondecreasing sequence of natural numbers such that $n$ appears exactly $G(n)$ times in the sequence. The first few terms of the sequence $n$ are:\n",
    "$\n",
    "1, 2, 2, 3, 3, 4, 4, 4, 5, 5, 5, 6, 6, 6, 6\n",
    "$\n",
    "\n",
    "You are given $G(10^3) = 86$ and $G(10^6) = 6137$. \n",
    "\n",
    "You are also give $\\sum_{i=1}^{10^3} G(i^3) = 153506976$. \n",
    "\n",
    "Find $\\sum_{i=1}^{10^6} G(i^3)$. "
   ]
  },
  {
   "cell_type": "code",
   "execution_count": 15,
   "metadata": {},
   "outputs": [],
   "source": [
    "def generate_n_golomb(n):\n",
    "    out = [1, 2]\n",
    "    curr = 2\n",
    "    used = 1\n",
    "    idx = 2\n",
    "\n",
    "    while idx <= n:\n",
    "        if used < out[curr-1]:\n",
    "            out.append(curr)\n",
    "            used += 1\n",
    "        else:\n",
    "            curr += 1\n",
    "            used = 1\n",
    "            out.append(curr)\n",
    "        idx += 1\n",
    "    return out"
   ]
  },
  {
   "cell_type": "code",
   "execution_count": 4,
   "metadata": {},
   "outputs": [
    {
     "data": {
      "text/plain": [
       "21"
      ]
     },
     "execution_count": 4,
     "metadata": {},
     "output_type": "execute_result"
    }
   ],
   "source": [
    "from functools import lru_cache\n",
    "\n",
    "def rec_nth_golomb(n):\n",
    "    @lru_cache(int(10e6))\n",
    "    def rec(n):\n",
    "        if n == 1: \n",
    "            return 1\n",
    "        return 1 + rec(n -rec(rec(n-1)))\n",
    "    return rec(n)\n",
    "\n",
    "rec_nth_golomb(100)"
   ]
  },
  {
   "cell_type": "code",
   "execution_count": 5,
   "metadata": {},
   "outputs": [],
   "source": [
    "def golomb_dp(n):\n",
    "    n = int(n)\n",
    "    if n == 1:\n",
    "        return 1\n",
    "\n",
    "    # Create a list to store Golomb sequence values\n",
    "    golomb_seq = [0] * (n + 1)\n",
    "    golomb_seq[1] = 1\n",
    "\n",
    "    for i in range(2, n + 1):\n",
    "        golomb_seq[i] = 1 + golomb_seq[i - golomb_seq[golomb_seq[i - 1]]]\n",
    "\n",
    "    return golomb_seq[n]"
   ]
  },
  {
   "cell_type": "code",
   "execution_count": 13,
   "metadata": {},
   "outputs": [
    {
     "data": {
      "text/plain": [
       "0.000581604872000753"
      ]
     },
     "execution_count": 13,
     "metadata": {},
     "output_type": "execute_result"
    }
   ],
   "source": [
    "import timeit\n",
    "\n",
    "def timed_g():\n",
    "    return generate_n_golomb(1e4)\n",
    "\n",
    "timeit.timeit(timed_g, number=1000)/1000"
   ]
  },
  {
   "cell_type": "code",
   "execution_count": 37,
   "metadata": {},
   "outputs": [
    {
     "data": {
      "text/plain": [
       "[1, 2, 2, 3, 3]"
      ]
     },
     "execution_count": 37,
     "metadata": {},
     "output_type": "execute_result"
    }
   ],
   "source": [
    "generate_n_golomb(5)"
   ]
  },
  {
   "cell_type": "code",
   "execution_count": 7,
   "metadata": {},
   "outputs": [],
   "source": [
    "a = generate_n_golomb(1e6)"
   ]
  },
  {
   "cell_type": "code",
   "execution_count": 8,
   "metadata": {},
   "outputs": [
    {
     "data": {
      "text/plain": [
       "6137"
      ]
     },
     "execution_count": 8,
     "metadata": {},
     "output_type": "execute_result"
    }
   ],
   "source": [
    "a"
   ]
  },
  {
   "cell_type": "code",
   "execution_count": 41,
   "metadata": {},
   "outputs": [
    {
     "data": {
      "text/plain": [
       "6137"
      ]
     },
     "execution_count": 41,
     "metadata": {},
     "output_type": "execute_result"
    }
   ],
   "source": [
    "a[int(1e6)]"
   ]
  },
  {
   "cell_type": "code",
   "execution_count": 55,
   "metadata": {},
   "outputs": [
    {
     "ename": "",
     "evalue": "",
     "output_type": "error",
     "traceback": [
      "\u001b[1;31mThe Kernel crashed while executing code in the current cell or a previous cell. \n",
      "\u001b[1;31mPlease review the code in the cell(s) to identify a possible cause of the failure. \n",
      "\u001b[1;31mClick <a href='https://aka.ms/vscodeJupyterKernelCrash'>here</a> for more info. \n",
      "\u001b[1;31mView Jupyter <a href='command:jupyter.viewOutput'>log</a> for further details."
     ]
    }
   ],
   "source": [
    "golomb_dp(10e6)"
   ]
  },
  {
   "cell_type": "code",
   "execution_count": 23,
   "metadata": {},
   "outputs": [],
   "source": [
    "golden = (1 + 5 ** 0.5) / 2\n",
    "fact = golden**(2-golden)\n",
    "\n",
    "def golden_gol(n):\n",
    "    return fact*n**(golden-1)"
   ]
  },
  {
   "cell_type": "code",
   "execution_count": 27,
   "metadata": {},
   "outputs": [],
   "source": [
    "a = generate_n_golomb(10**8)"
   ]
  },
  {
   "cell_type": "code",
   "execution_count": 39,
   "metadata": {},
   "outputs": [],
   "source": [
    "def generate_from_a(n, a=a):\n",
    "    n=int(n)\n",
    "    return 1 + a[n - a[a[n-1]]]"
   ]
  },
  {
   "cell_type": "code",
   "execution_count": 47,
   "metadata": {},
   "outputs": [
    {
     "ename": "IndexError",
     "evalue": "list index out of range",
     "output_type": "error",
     "traceback": [
      "\u001b[0;31m---------------------------------------------------------------------------\u001b[0m",
      "\u001b[0;31mIndexError\u001b[0m                                Traceback (most recent call last)",
      "Cell \u001b[0;32mIn[47], line 1\u001b[0m\n\u001b[0;32m----> 1\u001b[0m \u001b[43mgenerate_from_a\u001b[49m\u001b[43m(\u001b[49m\u001b[38;5;241;43m1e8\u001b[39;49m\u001b[38;5;241;43m+\u001b[39;49m\u001b[38;5;241;43m10\u001b[39;49m\u001b[43m)\u001b[49m\n",
      "Cell \u001b[0;32mIn[39], line 3\u001b[0m, in \u001b[0;36mgenerate_from_a\u001b[0;34m(n, a)\u001b[0m\n\u001b[1;32m      1\u001b[0m \u001b[38;5;28;01mdef\u001b[39;00m \u001b[38;5;21mgenerate_from_a\u001b[39m(n, a\u001b[38;5;241m=\u001b[39ma):\n\u001b[1;32m      2\u001b[0m     n\u001b[38;5;241m=\u001b[39m\u001b[38;5;28mint\u001b[39m(n)\n\u001b[0;32m----> 3\u001b[0m     \u001b[38;5;28;01mreturn\u001b[39;00m \u001b[38;5;241m1\u001b[39m \u001b[38;5;241m+\u001b[39m a[n \u001b[38;5;241m-\u001b[39m a[\u001b[43ma\u001b[49m\u001b[43m[\u001b[49m\u001b[43mn\u001b[49m\u001b[38;5;241;43m-\u001b[39;49m\u001b[38;5;241;43m1\u001b[39;49m\u001b[43m]\u001b[49m]]\n",
      "\u001b[0;31mIndexError\u001b[0m: list index out of range"
     ]
    }
   ],
   "source": [
    "generate_from_a(1e8+10)"
   ]
  },
  {
   "cell_type": "code",
   "execution_count": 32,
   "metadata": {},
   "outputs": [
    {
     "name": "stdout",
     "output_type": "stream",
     "text": [
      "153479545.92964894\n"
     ]
    }
   ],
   "source": [
    "tot = 0\n",
    "for i in range(int(1e3)):\n",
    "    val = i**3\n",
    "    if val < 10**8:\n",
    "        tot += a[int(val)]\n",
    "    else:\n",
    "        tot += golden_gol(val)\n",
    "print(tot)"
   ]
  },
  {
   "cell_type": "code",
   "execution_count": 29,
   "metadata": {},
   "outputs": [
    {
     "data": {
      "text/plain": [
       "153479545.92964894"
      ]
     },
     "execution_count": 29,
     "metadata": {},
     "output_type": "execute_result"
    }
   ],
   "source": [
    "tot"
   ]
  }
 ],
 "metadata": {
  "kernelspec": {
   "display_name": "utils",
   "language": "python",
   "name": "python3"
  },
  "language_info": {
   "codemirror_mode": {
    "name": "ipython",
    "version": 3
   },
   "file_extension": ".py",
   "mimetype": "text/x-python",
   "name": "python",
   "nbconvert_exporter": "python",
   "pygments_lexer": "ipython3",
   "version": "3.13.0"
  }
 },
 "nbformat": 4,
 "nbformat_minor": 2
}
