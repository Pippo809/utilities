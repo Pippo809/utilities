{
 "cells": [
  {
   "cell_type": "markdown",
   "metadata": {},
   "source": [
    "You turn over a card one by one from a deck. What is the expected number of cards that you need to flip before you see the first ace?"
   ]
  },
  {
   "cell_type": "markdown",
   "metadata": {},
   "source": [
    "1*4/52 + 2*48/52*4/51 + 3*48/52*47/51*4/50 + ... = 10.6"
   ]
  },
  {
   "cell_type": "code",
   "execution_count": 9,
   "metadata": {},
   "outputs": [
    {
     "name": "stdout",
     "output_type": "stream",
     "text": [
      "10.599999999999994\n"
     ]
    }
   ],
   "source": [
    "res = 4/52 * 1\n",
    "factor = 1\n",
    "\n",
    "for i in range(2, 53):\n",
    "    factor *= (48-i+2)/(52-i+2)\n",
    "    res += 4/(52-i+1) * factor * i\n",
    "\n",
    "print(res)"
   ]
  },
  {
   "cell_type": "code",
   "execution_count": 10,
   "metadata": {},
   "outputs": [
    {
     "name": "stdout",
     "output_type": "stream",
     "text": [
      "5050\n"
     ]
    }
   ],
   "source": [
    "tot = 0\n",
    "for i in range(101):\n",
    "    tot += i\n",
    "print(tot)"
   ]
  }
 ],
 "metadata": {
  "kernelspec": {
   "display_name": "numpy_ex",
   "language": "python",
   "name": "python3"
  },
  "language_info": {
   "codemirror_mode": {
    "name": "ipython",
    "version": 3
   },
   "file_extension": ".py",
   "mimetype": "text/x-python",
   "name": "python",
   "nbconvert_exporter": "python",
   "pygments_lexer": "ipython3",
   "version": "3.11.10"
  }
 },
 "nbformat": 4,
 "nbformat_minor": 2
}
