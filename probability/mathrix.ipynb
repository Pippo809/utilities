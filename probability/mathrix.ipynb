{
 "cells": [
  {
   "cell_type": "code",
   "execution_count": 92,
   "metadata": {},
   "outputs": [],
   "source": [
    "import numpy as np\n",
    "from scipy.stats import poisson"
   ]
  },
  {
   "cell_type": "markdown",
   "metadata": {},
   "source": [
    "### Tree of possible lambda values of the Poisson distribution"
   ]
  },
  {
   "cell_type": "code",
   "execution_count": 93,
   "metadata": {},
   "outputs": [
    {
     "name": "stdout",
     "output_type": "stream",
     "text": [
      "Depth 0: [1]\n",
      "Depth 1: [0.8, 1.25]\n",
      "Depth 2: [0.6400000000000001, 1.0, 1.0, 1.5625]\n",
      "Depth 3: [0.5120000000000001, 0.8000000000000002, 0.8, 1.25, 0.8, 1.25, 1.25, 1.953125]\n",
      "Depth 4: [0.40960000000000013, 0.6400000000000001, 0.6400000000000001, 1.0000000000000002, 0.6400000000000001, 1.0, 1.0, 1.5625, 0.6400000000000001, 1.0, 1.0, 1.5625, 1.0, 1.5625, 1.5625, 2.44140625]\n"
     ]
    }
   ],
   "source": [
    "lambda_orig = 1\n",
    "lambda_ = [[1]]\n",
    "total_time = 10\n",
    "\n",
    "for _ in range(0, 4):\n",
    "    temp = []\n",
    "    for j in lambda_[-1]:\n",
    "        temp.append(j*0.8)\n",
    "        temp.append(j*1.25)\n",
    "    lambda_.append(temp)\n",
    "\n",
    "for i in range(0, 5):\n",
    "    print(f\"Depth {i}: {lambda_[i]}\")"
   ]
  },
  {
   "cell_type": "code",
   "execution_count": 98,
   "metadata": {},
   "outputs": [
    {
     "name": "stdout",
     "output_type": "stream",
     "text": [
      "Depth 0: [1]\n",
      "Depth 1: [9]\n",
      "Depth 2: [7.2, 11.25]\n",
      "Depth 3: [5.760000000000002, 9.0, 9.0, 14.0625]\n",
      "Depth 4: [4.608000000000001, 7.200000000000001, 7.2, 11.25, 7.2, 11.25, 11.25, 17.578125]\n"
     ]
    }
   ],
   "source": [
    "lambda_2 = [[i*9 for i in k] for k in lambda_]\n",
    "lambda_2.insert(0, [1])\n",
    "\n",
    "for i in range(0, 5):\n",
    "    print(f\"Depth {i}: {lambda_2[i]}\")"
   ]
  },
  {
   "cell_type": "markdown",
   "metadata": {},
   "source": [
    "### Probabilities\n",
    "We calculate the porbability of having each of the possible values using the Poisson distribution formula"
   ]
  },
  {
   "cell_type": "code",
   "execution_count": 95,
   "metadata": {},
   "outputs": [
    {
     "name": "stdout",
     "output_type": "stream",
     "text": [
      "Depth 0: [1], sum: 1\n",
      "Depth 1: [0.4125917556680583, 0.5874082443319417], sum: 1.0\n",
      "Depth 2: [0.07853688968391188, 0.3340548659841464, 0.40295810457048525, 0.18445013976145647], sum: 1.0\n",
      "Depth 3: [0.005371331862536226, 0.07316555782137565, 0.1378282836458569, 0.19622658233828952, 0.16625719182540952, 0.23670091274507574, 0.16481113836338013, 0.019639001398076332], sum: 1.0\n",
      "Depth 4: [0.00010598865775650213, 0.005265343204779723, 0.013927072619216939, 0.059238485202158714, 0.02623563015817088, 0.11159265348768602, 0.1346101156195191, 0.06161646671877041, 0.03164707620589043, 0.13461011561951908, 0.16237523403903814, 0.0743256787060376, 0.11305933236014055, 0.05175180600323958, 0.019260209966698146, 0.0003787914313781851], sum: 0.9999999999999999\n"
     ]
    }
   ],
   "source": [
    "problist = [[1]]\n",
    "\n",
    "for depth in range(1, 5):\n",
    "\n",
    "    problist.append([])\n",
    "\n",
    "    for i, lambda_val in enumerate(lambda_2[depth]):\n",
    "        prob = poisson.cdf(9, lambda_val)\n",
    "\n",
    "        idx = i\n",
    "\n",
    "        problist[-1].append((1-prob)*problist[depth-1][idx])\n",
    "        problist[-1].append(prob*problist[depth-1][idx])\n",
    "\n",
    "for i in range(0, 5):\n",
    "    print(f\"Depth {i}: {problist[i]}, sum: {sum(problist[i])}\")"
   ]
  },
  {
   "cell_type": "markdown",
   "metadata": {},
   "source": [
    "Result is the expected value of each possible outcome"
   ]
  },
  {
   "cell_type": "code",
   "execution_count": 96,
   "metadata": {},
   "outputs": [
    {
     "name": "stdout",
     "output_type": "stream",
     "text": [
      "53.19043386670707\n"
     ]
    }
   ],
   "source": [
    "res = 0\n",
    "for prob, lambda_val in zip(problist, lambda_):\n",
    "    for i, j in zip(prob, lambda_val):\n",
    "        res += i*j\n",
    "print(res*10)"
   ]
  },
  {
   "cell_type": "markdown",
   "metadata": {},
   "source": [
    "## Conclusion\n",
    "The result is **53.1904**"
   ]
  }
 ],
 "metadata": {
  "kernelspec": {
   "display_name": "pdf_conv",
   "language": "python",
   "name": "python3"
  },
  "language_info": {
   "codemirror_mode": {
    "name": "ipython",
    "version": 3
   },
   "file_extension": ".py",
   "mimetype": "text/x-python",
   "name": "python",
   "nbconvert_exporter": "python",
   "pygments_lexer": "ipython3",
   "version": "3.12.0"
  }
 },
 "nbformat": 4,
 "nbformat_minor": 2
}
