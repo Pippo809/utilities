{
 "cells": [
  {
   "cell_type": "code",
   "execution_count": 14,
   "metadata": {},
   "outputs": [],
   "source": [
    "# Find sum of primes below 2 millions\n",
    "\n",
    "def is_prime(n, primes):\n",
    "    for p in primes:\n",
    "        if n%p == 0:\n",
    "            return False\n",
    "        elif p*p > n:\n",
    "            return True\n",
    "    return True\n",
    "\n",
    "def prime_sums(n):\n",
    "    tot = 0\n",
    "    primes = []\n",
    "    curr = 2\n",
    "    while curr < n:\n",
    "        if is_prime(curr, primes):\n",
    "            primes.append(curr)\n",
    "            tot += curr\n",
    "        curr += 1\n",
    "    return tot"
   ]
  },
  {
   "cell_type": "code",
   "execution_count": 15,
   "metadata": {},
   "outputs": [
    {
     "data": {
      "text/plain": [
       "142913828922"
      ]
     },
     "execution_count": 15,
     "metadata": {},
     "output_type": "execute_result"
    }
   ],
   "source": [
    "prime_sums(2e6)"
   ]
  }
 ],
 "metadata": {
  "kernelspec": {
   "display_name": "numpy_ex",
   "language": "python",
   "name": "python3"
  },
  "language_info": {
   "codemirror_mode": {
    "name": "ipython",
    "version": 3
   },
   "file_extension": ".py",
   "mimetype": "text/x-python",
   "name": "python",
   "nbconvert_exporter": "python",
   "pygments_lexer": "ipython3",
   "version": "3.11.10"
  }
 },
 "nbformat": 4,
 "nbformat_minor": 2
}
