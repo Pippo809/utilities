{
 "cells": [
  {
   "cell_type": "code",
   "execution_count": 2,
   "metadata": {},
   "outputs": [],
   "source": [
    "import pandas as pd\n",
    "import numpy as np\n",
    "import time"
   ]
  },
  {
   "cell_type": "code",
   "execution_count": 7,
   "metadata": {},
   "outputs": [
    {
     "name": "stdout",
     "output_type": "stream",
     "text": [
      "0.18220186233520508\n"
     ]
    }
   ],
   "source": [
    "# Create a sample DataFrame\n",
    "num_rows = 1000000  # Adjust the number of rows for testing\n",
    "start_time = time.time()\n",
    "\n",
    "df = pd.read_excel(r\"20241119_BG_Matnumbers_ZRH.XLSX\")\n",
    "delta = time.time() - start_time \n",
    "\n",
    "print(delta)\n",
    "# Define file names for different formats\n",
    "file_names = {\n",
    "    \"Excel\": \"test_data.xlsx\",\n",
    "    'CSV': 'test_data.csv',\n",
    "    'Parquet-pyarrow': 'test_data.parquet',\n",
    "    'Parquet-fastparquet': 'test_data.parquet',\n",
    "    'Feather': 'test_data.feather',\n",
    "    'HDF5': 'test_data.h5'\n",
    "}"
   ]
  },
  {
   "cell_type": "code",
   "execution_count": 10,
   "metadata": {},
   "outputs": [],
   "source": [
    "# Function to test read and write speeds\n",
    "def test_speed(format_name, file_name):\n",
    "    # Measure write speed\n",
    "    start_time = time.time()\n",
    "    if format_name == 'Excel':\n",
    "        df.to_excel(file_name, index=False)\n",
    "    if format_name == 'CSV':\n",
    "        df.to_csv(file_name, index=False)\n",
    "    elif format_name in {'Parquet-fastparquet', \"Parquet-pyarrow\"}:\n",
    "        df.to_parquet(file_name, index=False)\n",
    "    elif format_name == 'Feather':\n",
    "        df.to_feather(file_name)\n",
    "    elif format_name == 'HDF5':\n",
    "        df.to_hdf(file_name, key='df', mode='w', index=False)\n",
    "    write_time = time.time() - start_time\n",
    "\n",
    "    # Measure read speed\n",
    "    start_time = time.time()\n",
    "    if format_name == 'CSV':\n",
    "        pd.read_csv(file_name)\n",
    "    elif format_name == 'Excel':\n",
    "        pd.read_excel(file_name)\n",
    "    elif format_name == 'Parquet-pyarrow':\n",
    "        pd.read_parquet(file_name, engine=\"pyarrow\")\n",
    "    elif format_name == 'Parquet-fastparquet':\n",
    "        pd.read_parquet(file_name, engine=\"fastparquet\")\n",
    "    elif format_name == 'Feather':\n",
    "        pd.read_feather(file_name)\n",
    "    elif format_name == 'HDF5':\n",
    "        pd.read_hdf(file_name, key='df')\n",
    "    read_time = time.time() - start_time\n",
    "\n",
    "    return write_time, read_time"
   ]
  },
  {
   "cell_type": "code",
   "execution_count": 11,
   "metadata": {},
   "outputs": [
    {
     "name": "stdout",
     "output_type": "stream",
     "text": [
      "Excel: Write Time = 0.4530 s, Read Time = 0.2995 s\n",
      "CSV: Write Time = 0.0090 s, Read Time = 0.0188 s\n",
      "Parquet-pyarrow: Write Time = 0.0104 s, Read Time = 0.0130 s\n",
      "Parquet-fastparquet: Write Time = 0.0091 s, Read Time = 0.0112 s\n",
      "Feather: Write Time = 0.0050 s, Read Time = 0.0121 s\n",
      "HDF5: Write Time = 0.0122 s, Read Time = 0.0131 s\n",
      "\n",
      "\n",
      "\n",
      "                     Write Time (s)  Read Time (s)\n",
      "Format                                            \n",
      "Excel                      0.453029       0.299455\n",
      "CSV                        0.008998       0.018830\n",
      "Parquet-pyarrow            0.010435       0.013000\n",
      "Parquet-fastparquet        0.009116       0.011245\n",
      "Feather                    0.005041       0.012136\n",
      "HDF5                       0.012205       0.013144\n"
     ]
    }
   ],
   "source": [
    "# Test each format\n",
    "results = {}\n",
    "for format_name, file_name in file_names.items():\n",
    "    write_time, read_time = test_speed(format_name, file_name)\n",
    "    results[format_name] = {'Write Time (s)': write_time, 'Read Time (s)': read_time}\n",
    "\n",
    "# Print the results\n",
    "for format_name, times in results.items():\n",
    "    print(f\"{format_name}: Write Time = {times['Write Time (s)']:.4f} s, Read Time = {times['Read Time (s)']:.4f} s\")\n",
    "\n",
    "results_df = pd.DataFrame(results).T  # Transpose to have formats as rows\n",
    "results_df.index.name = 'Format'\n",
    "\n",
    "# Print the results table\n",
    "print(\"\\n\\n\")\n",
    "print(results_df)"
   ]
  },
  {
   "cell_type": "code",
   "execution_count": 8,
   "metadata": {},
   "outputs": [],
   "source": [
    "df.to_csv(\"BG_Matnumbers_ZRH_final.csv\", index=False)"
   ]
  }
 ],
 "metadata": {
  "kernelspec": {
   "display_name": "utils",
   "language": "python",
   "name": "python3"
  },
  "language_info": {
   "codemirror_mode": {
    "name": "ipython",
    "version": 3
   },
   "file_extension": ".py",
   "mimetype": "text/x-python",
   "name": "python",
   "nbconvert_exporter": "python",
   "pygments_lexer": "ipython3",
   "version": "3.10.14"
  }
 },
 "nbformat": 4,
 "nbformat_minor": 2
}
