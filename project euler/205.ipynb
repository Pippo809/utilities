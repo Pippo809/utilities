{
 "cells": [
  {
   "cell_type": "markdown",
   "metadata": {},
   "source": [
    "Peter has nine four-sided (pyramidal) dice, each with faces numbered 1, 2, 3, 4.\n",
    "Colin has six six-sided (cubic) dice, each with faces numbered 1, 2, 3, 4, 5, 6.\n",
    "\n",
    ".\n",
    "\n",
    "Peter and Colin roll their dice and compare totals: the highest total wins. The result is a draw if the totals are equal.\n",
    "\n",
    "What is the probability that Pyramidal Peter beats Cubic Colin?"
   ]
  },
  {
   "cell_type": "code",
   "execution_count": 83,
   "metadata": {},
   "outputs": [],
   "source": [
    "six_side_dice = {1:1/6,\n",
    "                 2:1/6,\n",
    "                 3:1/6,\n",
    "                 4:1/6,\n",
    "                 5:1/6,\n",
    "                 6:1/6\n",
    "                 }\n",
    "\n",
    "six_side_dice_tuple = (\n",
    "    (1,1/6),\n",
    "    (2,1/6),\n",
    "    (3,1/6),\n",
    "    (4,1/6),\n",
    "    (5,1/6),\n",
    "    (6,1/6),\n",
    ")\n",
    "\n",
    "four_side_dice = {1:1/4,\n",
    "                2:1/4,\n",
    "                3:1/4,\n",
    "                4:1/4}\n",
    "\n",
    "four_side_dice_tuple = (\n",
    "    (1,1/4),\n",
    "    (2,1/4),\n",
    "    (3,1/4),\n",
    "    (4,1/4)\n",
    ")"
   ]
  },
  {
   "cell_type": "code",
   "execution_count": 77,
   "metadata": {},
   "outputs": [],
   "source": [
    "from functools import lru_cache\n",
    "\n",
    "@lru_cache(maxsize=None)\n",
    "def prob_of_rolling(n, dice, amount):    \n",
    "    if amount == 1:\n",
    "        if dice[0][0] <= n <= dice[-1][0]:\n",
    "            return dice[n-1][1]\n",
    "        return 0\n",
    "\n",
    "    while amount > 1:\n",
    "        amount -= 1\n",
    "        prob = 0\n",
    "        for i, prob_ in dice:\n",
    "            prob += prob_of_rolling(n-i, dice, amount)*prob_\n",
    "        return prob"
   ]
  },
  {
   "cell_type": "code",
   "execution_count": 95,
   "metadata": {},
   "outputs": [
    {
     "data": {
      "text/plain": [
       "0.57314407678298"
      ]
     },
     "execution_count": 95,
     "metadata": {},
     "output_type": "execute_result"
    }
   ],
   "source": [
    "from timeit import timeit\n",
    "\n",
    "def fun():\n",
    "    tot_prob = 0\n",
    "    for i in range(7, 39):\n",
    "        prob_2 = 0\n",
    "        for j in range(6, i):\n",
    "            prob_2 += prob_of_rolling(j, six_side_dice_tuple, 6)\n",
    "        tot_prob += prob_of_rolling(i, four_side_dice_tuple, 9)*prob_2\n",
    "    return tot_prob\n",
    "fun()\n"
   ]
  },
  {
   "cell_type": "code",
   "execution_count": 98,
   "metadata": {},
   "outputs": [
    {
     "data": {
      "text/plain": [
       "0.0002691659676400013"
      ]
     },
     "execution_count": 98,
     "metadata": {},
     "output_type": "execute_result"
    }
   ],
   "source": [
    "timeit(fun, number=100000)/100000"
   ]
  },
  {
   "cell_type": "code",
   "execution_count": 89,
   "metadata": {},
   "outputs": [
    {
     "data": {
      "text/plain": [
       "0.4999999999999998"
      ]
     },
     "execution_count": 89,
     "metadata": {},
     "output_type": "execute_result"
    }
   ],
   "source": []
  }
 ],
 "metadata": {
  "kernelspec": {
   "display_name": "numpy_ex",
   "language": "python",
   "name": "python3"
  },
  "language_info": {
   "codemirror_mode": {
    "name": "ipython",
    "version": 3
   },
   "file_extension": ".py",
   "mimetype": "text/x-python",
   "name": "python",
   "nbconvert_exporter": "python",
   "pygments_lexer": "ipython3",
   "version": "3.11.10"
  }
 },
 "nbformat": 4,
 "nbformat_minor": 2
}
