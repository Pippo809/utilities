{
 "cells": [
  {
   "cell_type": "code",
   "execution_count": 1,
   "metadata": {},
   "outputs": [],
   "source": [
    "import cv2\n",
    "\n",
    "# Load an image\n",
    "image = cv2.imread('/home/lollo/Pictures/upscaled/blonde-crying-girl-pop-art-posters_upscayl_4x_ultrasharp.png')\n",
    "height, width = image.shape[:2]\n",
    "new_height, new_width = 512, int((512 / height) * width)\n",
    "downscaled_original = cv2.resize(image, (new_width, new_height))\n",
    "\n",
    "# Apply bilateral filter\n",
    "# d = 15 is the diameter of pixel neighborhood\n",
    "# sigmaColor = 75 determines how much color differences influence the weights\n",
    "# sigmaSpace = 75 determines how much spatial differences influence the weights\n",
    "downscaled_filtered = cv2.bilateralFilter(downscaled_original, d=55, sigmaColor=75, sigmaSpace=75)\n",
    "\n",
    "# Display the downscaled results\n",
    "cv2.imshow('Downscaled Original Image', downscaled_original)\n",
    "cv2.imshow('Downscaled Bilateral Filtered Image', downscaled_filtered)\n",
    "\n",
    "cv2.waitKey(0)\n",
    "cv2.destroyAllWindows()"
   ]
  },
  {
   "cell_type": "code",
   "execution_count": 2,
   "metadata": {},
   "outputs": [],
   "source": [
    "# Downscale the images to 512px while keeping proportions\n",
    "import numpy as np\n",
    "\n",
    "\n",
    "# Define structuring element (a 5x5 square kernel)\n",
    "kernel = np.ones((5, 5), np.uint8)\n",
    "\n",
    "# Apply dilation\n",
    "dilated_image = cv2.dilate(downscaled_original, kernel, iterations=1)\n",
    "\n",
    "# Show the result\n",
    "cv2.imshow('Original Image', downscaled_original)\n",
    "cv2.imshow('Dilated Image', dilated_image)\n",
    "cv2.waitKey(0)\n",
    "cv2.destroyAllWindows()\n"
   ]
  },
  {
   "cell_type": "markdown",
   "metadata": {},
   "source": []
  }
 ],
 "metadata": {
  "kernelspec": {
   "display_name": "microrobot",
   "language": "python",
   "name": "python3"
  },
  "language_info": {
   "codemirror_mode": {
    "name": "ipython",
    "version": 3
   },
   "file_extension": ".py",
   "mimetype": "text/x-python",
   "name": "python",
   "nbconvert_exporter": "python",
   "pygments_lexer": "ipython3",
   "version": "3.9.20"
  }
 },
 "nbformat": 4,
 "nbformat_minor": 2
}
