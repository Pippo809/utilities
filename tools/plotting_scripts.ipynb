{
 "cells": [
  {
   "cell_type": "code",
   "execution_count": null,
   "metadata": {},
   "outputs": [],
   "source": [
    "import matplotlib.pyplot as plt\n",
    "import numpy as np\n",
    "import pandas as pd\n",
    "import seaborn as sns\n",
    "import scipy"
   ]
  },
  {
   "cell_type": "markdown",
   "metadata": {},
   "source": [
    "### Visualize the distribution of each feature using histograms."
   ]
  },
  {
   "cell_type": "code",
   "execution_count": null,
   "metadata": {},
   "outputs": [],
   "source": [
    "plt.figure(figsize=(10, 40))\n",
    "plt.subplots_adjust(hspace=0.5)  # Adjust the hspace parameter to increase the space between the subplots\n",
    "for i, feature in enumerate(cls[:-1]):\n",
    "    plt.subplot(len(cls)//2, 2, i + 1)\n",
    "    sns.histplot(data=df_scaled, x=feature, hue='DEFAULT', kde=True)\n",
    "    plt.title(f'{feature} Distribution')\n",
    "plt.show()"
   ]
  },
  {
   "cell_type": "markdown",
   "metadata": {},
   "source": [
    "### Plot smoothed graphs"
   ]
  },
  {
   "cell_type": "code",
   "execution_count": null,
   "metadata": {},
   "outputs": [],
   "source": [
    "from scipy.ndimage.filters import gaussian_filter1d\n",
    "def plot_and_save(df, title, name):    \n",
    "    smoothed_df = df['Value'].rolling(window=100).mean()\n",
    "    df['smoothed_g'] = gaussian_filter1d(df['Value'], sigma=5)\n",
    "    plt.plot(df['Step'], df['smoothed_g'])\n",
    "\n",
    "    plt.plot(df['Step'], df['Value'], color='gray', alpha=0.3)\n",
    "    plt.grid(True)\n",
    "    plt.xlabel('Steps')\n",
    "    plt.ylabel('Reward')\n",
    "\n",
    "    plt.title(title)\n",
    "    plt.savefig(name+\".png\")\n",
    "    plt.show()"
   ]
  },
  {
   "cell_type": "markdown",
   "metadata": {},
   "source": [
    "### Mutual Information Plot"
   ]
  },
  {
   "cell_type": "code",
   "execution_count": null,
   "metadata": {},
   "outputs": [],
   "source": [
    "from sklearn.feature_selection import mutual_info_regression\n",
    "\n",
    "def make_mi_scores(X, y):\n",
    "    X = X.copy()\n",
    "    for colname in X.select_dtypes([\"object\", \"category\"]):\n",
    "        X[colname], _ = X[colname].factorize()\n",
    "    # All discrete features should now have integer dtypes\n",
    "    discrete_features = [pd.api.types.is_integer_dtype(t) for t in X.dtypes]\n",
    "    mi_scores = mutual_info_regression(X, y, discrete_features=discrete_features, random_state=0)\n",
    "    mi_scores = pd.Series(mi_scores, name=\"MI Scores\", index=X.columns)\n",
    "    mi_scores = mi_scores.sort_values(ascending=False)\n",
    "    return mi_scores\n",
    "\n",
    "def plot_mi_scores(scores):\n",
    "    scores = scores.sort_values(ascending=True)\n",
    "    width = np.arange(len(scores))\n",
    "    ticks = list(scores.index)\n",
    "    plt.barh(width, scores)\n",
    "    plt.yticks(width, ticks)\n",
    "    plt.title(\"Mutual Information Scores\")"
   ]
  },
  {
   "cell_type": "markdown",
   "metadata": {},
   "source": [
    "### REGRESSION PLOT\n",
    "\n",
    "The `sns.regplot` function in seaborn is used to plot data and a linear regression model fit. It provides a convenient interface to fit a regression model and plot the resulting line along with a 95% confidence interval.\n",
    "\n",
    "The `sns.regplot` function can also handle different types of regression, including **logistic** and **polynomial** regression, by specifying the logistic or order parameters, respectively."
   ]
  },
  {
   "cell_type": "code",
   "execution_count": null,
   "metadata": {},
   "outputs": [],
   "source": [
    "# Load the example tips dataset\n",
    "tips = sns.load_dataset(\"tips\")\n",
    "\n",
    "# Create a regression plot\n",
    "sns.regplot(x=\"total_bill\", y=\"tip\", data=tips)\n",
    "\n",
    "plt.show()"
   ]
  },
  {
   "cell_type": "markdown",
   "metadata": {},
   "source": [
    "### PCA \n",
    "Distribution plot for each of the principal components"
   ]
  },
  {
   "cell_type": "code",
   "execution_count": null,
   "metadata": {},
   "outputs": [],
   "source": [
    "sns.catplot(\n",
    "    y=\"value\",\n",
    "    col=\"variable\",\n",
    "    data=X_pca.melt(),\n",
    "    kind='boxen',\n",
    "    sharey=False,\n",
    "    col_wrap=2,\n",
    ");"
   ]
  }
 ],
 "metadata": {
  "language_info": {
   "name": "python"
  }
 },
 "nbformat": 4,
 "nbformat_minor": 2
}
