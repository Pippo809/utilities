{
 "cells": [
  {
   "cell_type": "code",
   "execution_count": 24,
   "metadata": {},
   "outputs": [],
   "source": [
    "import gensim.downloader\n",
    "from scipy.linalg import norm\n",
    "import numpy as np"
   ]
  },
  {
   "cell_type": "markdown",
   "metadata": {},
   "source": [
    "### This is the embedding matrix of a simple trained LLM\n",
    "It is the first matrix in which words are passed into to be tranformed in vectors, real tokens are not really words but \"parts\" of words and more importantly they will get \"enriched\" with context from other parts of the sentence by the attention mechanism. Meaning that the vector representing a word will then point to different directions."
   ]
  },
  {
   "cell_type": "code",
   "execution_count": 2,
   "metadata": {},
   "outputs": [
    {
     "name": "stdout",
     "output_type": "stream",
     "text": [
      "[===============================================---] 95.5% 63.0/66.0MB downloaded"
     ]
    },
    {
     "name": "stderr",
     "output_type": "stream",
     "text": [
      "IOPub message rate exceeded.\n",
      "The notebook server will temporarily stop sending output\n",
      "to the client in order to avoid crashing it.\n",
      "To change this limit, set the config variable\n",
      "`--NotebookApp.iopub_msg_rate_limit`.\n",
      "\n",
      "Current values:\n",
      "NotebookApp.iopub_msg_rate_limit=1000.0 (msgs/sec)\n",
      "NotebookApp.rate_limit_window=3.0 (secs)\n",
      "\n"
     ]
    },
    {
     "name": "stdout",
     "output_type": "stream",
     "text": [
      "[==================================================] 100.0% 66.0/66.0MB downloaded\n"
     ]
    }
   ],
   "source": [
    "model = gensim.downloader.load(\"glove-wiki-gigaword-50\")"
   ]
  },
  {
   "cell_type": "markdown",
   "metadata": {},
   "source": [
    "## Dimentions have \"semantic\" interpretation; for example: Plurality\n",
    "We calculate the difference between cat and cats this should give us the direction of \"plurality\":"
   ]
  },
  {
   "cell_type": "code",
   "execution_count": 41,
   "metadata": {},
   "outputs": [
    {
     "data": {
      "text/plain": [
       "array([-0.02199   , -0.35108   , -0.01924998, -0.634903  , -0.32648998,\n",
       "        0.11365002, -0.24805999, -0.05373996, -0.24123001,  0.15840201,\n",
       "       -0.14634998, -0.36223003,  0.11755997, -0.70904005,  0.01692998,\n",
       "        0.05896997,  0.81096   , -0.42523998, -0.30130005,  0.266191  ,\n",
       "       -0.08174002,  0.0142    ,  0.46699002,  0.15809998, -0.24404001,\n",
       "        0.88282   ,  0.28436   , -0.68671   ,  0.14561999, -0.32805002,\n",
       "       -0.16110003,  0.76809   ,  0.39828   , -0.69056004,  0.46418   ,\n",
       "        0.21342   ,  0.20650001, -0.12044999, -0.17143999,  0.32875   ,\n",
       "       -0.207801  , -0.67872   ,  0.72977996,  0.29582   ,  0.18046993,\n",
       "        0.80364   , -0.54152   ,  0.48396003, -0.01890999, -0.34506   ],\n",
       "      dtype=float32)"
      ]
     },
     "execution_count": 41,
     "metadata": {},
     "output_type": "execute_result"
    }
   ],
   "source": [
    "plur_vect = model[\"cats\"] - model[\"cat\"]\n",
    "plur_vect"
   ]
  },
  {
   "cell_type": "code",
   "execution_count": 43,
   "metadata": {},
   "outputs": [
    {
     "data": {
      "text/plain": [
       "(-2.399511, 0.7914256)"
      ]
     },
     "execution_count": 43,
     "metadata": {},
     "output_type": "execute_result"
    }
   ],
   "source": [
    "np.dot(plur_vect, model[\"one\"]), np.dot(plur_vect, model[\"two\"])"
   ]
  },
  {
   "cell_type": "code",
   "execution_count": 45,
   "metadata": {},
   "outputs": [
    {
     "data": {
      "text/plain": [
       "(-2.2534056, 0.27854303)"
      ]
     },
     "execution_count": 45,
     "metadata": {},
     "output_type": "execute_result"
    }
   ],
   "source": [
    "np.dot(plur_vect, model[\"coin\"]), np.dot(plur_vect, model[\"coins\"])"
   ]
  },
  {
   "cell_type": "code",
   "execution_count": 46,
   "metadata": {},
   "outputs": [
    {
     "data": {
      "text/plain": [
       "(-5.1723533, 4.838005)"
      ]
     },
     "execution_count": 46,
     "metadata": {},
     "output_type": "execute_result"
    }
   ],
   "source": [
    "np.dot(plur_vect, model[\"man\"]), np.dot(plur_vect, model[\"population\"])"
   ]
  },
  {
   "cell_type": "code",
   "execution_count": 39,
   "metadata": {},
   "outputs": [
    {
     "data": {
      "text/plain": [
       "21.877504"
      ]
     },
     "execution_count": 39,
     "metadata": {},
     "output_type": "execute_result"
    }
   ],
   "source": [
    "np.dot(model[\"queen\"], model[\"king\"])"
   ]
  },
  {
   "cell_type": "code",
   "execution_count": 8,
   "metadata": {},
   "outputs": [
    {
     "data": {
      "text/plain": [
       "array([ 0.36855 , -0.56229 ,  0.1754  ,  0.25499 ,  0.22385 ,  0.56025 ,\n",
       "       -0.049689, -0.64561 ,  0.26744 ,  0.24873 , -0.51566 ,  0.38522 ,\n",
       "       -0.17406 ,  0.76487 ,  0.76449 , -0.48305 ,  0.50935 ,  1.089   ,\n",
       "       -1.3183  , -0.25693 , -0.4785  , -0.34378 , -0.031794,  0.44797 ,\n",
       "        0.57611 , -0.99038 , -1.4925  ,  0.36162 ,  0.60677 , -0.63612 ,\n",
       "        1.146   , -0.26658 , -0.2881  ,  0.23408 , -0.34165 ,  0.77376 ,\n",
       "       -0.17556 , -0.87725 ,  0.077699, -1.0549  , -0.31896 ,  0.35151 ,\n",
       "       -0.70919 , -0.17105 ,  0.077491,  0.30122 ,  0.58553 , -1.1194  ,\n",
       "        0.47915 , -0.046214], dtype=float32)"
      ]
     },
     "execution_count": 8,
     "metadata": {},
     "output_type": "execute_result"
    }
   ],
   "source": []
  }
 ],
 "metadata": {
  "kernelspec": {
   "display_name": "utils",
   "language": "python",
   "name": "python3"
  },
  "language_info": {
   "codemirror_mode": {
    "name": "ipython",
    "version": 3
   },
   "file_extension": ".py",
   "mimetype": "text/x-python",
   "name": "python",
   "nbconvert_exporter": "python",
   "pygments_lexer": "ipython3",
   "version": "3.10.14"
  }
 },
 "nbformat": 4,
 "nbformat_minor": 2
}
