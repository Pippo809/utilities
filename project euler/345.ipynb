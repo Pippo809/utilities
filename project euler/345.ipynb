{
 "cells": [
  {
   "cell_type": "markdown",
   "metadata": {},
   "source": [
    "# Matrix Sum\n",
    "We define the Matrix Sum of a matrix as the maximum possible sum of matrix elements such that none of the selected elements share the same row or column.\n",
    "\n",
    "For example, the Matrix Sum of the matrix below equals 3315 ( = 863 + 383 + 343 + 959 + 767):\n",
    "```\n",
    "  7  53 183 439 863\n",
    "497 383 563  79 973\n",
    "287  63 343 169 583\n",
    "627 343 773 959 943\n",
    "767 473 103 699 303\n",
    "```\n",
    "\n",
    "Find the Matrix Sum of the given matrix."
   ]
  },
  {
   "cell_type": "code",
   "execution_count": 2,
   "metadata": {},
   "outputs": [
    {
     "name": "stdout",
     "output_type": "stream",
     "text": [
      "15\n",
      "15\n"
     ]
    }
   ],
   "source": [
    "with open(\"data/345.txt\", \"r\") as f:\n",
    "    data = []\n",
    "    for line in f.read().splitlines():\n",
    "        data.append([int(s) for s in line.split()])\n",
    "print(len(data))\n",
    "print(len(data[0]))"
   ]
  },
  {
   "cell_type": "code",
   "execution_count": 3,
   "metadata": {},
   "outputs": [
    {
     "data": {
      "text/plain": [
       "(15, 15)"
      ]
     },
     "execution_count": 3,
     "metadata": {},
     "output_type": "execute_result"
    }
   ],
   "source": [
    "import numpy as np\n",
    "\n",
    "data = np.array(data)\n",
    "data.shape"
   ]
  },
  {
   "cell_type": "code",
   "execution_count": 4,
   "metadata": {},
   "outputs": [],
   "source": [
    "import itertools\n",
    "numbers = np.arange(15)\n",
    "permutations = itertools.permutations(numbers)"
   ]
  },
  {
   "cell_type": "code",
   "execution_count": 24,
   "metadata": {},
   "outputs": [],
   "source": [
    "from scipy.optimize import linprog\n",
    "\n",
    "num_agents, num_tasks = data.shape\n",
    "c = data.flatten()\n",
    "\n",
    "# Agents = colums\n",
    "# Tasks = rows\n",
    "\n",
    "# Create the equality constraints\n",
    "# Each agent is assigned to exactly one task\n",
    "# Each row sums to 1\n",
    "A_eq_agents = np.zeros((num_agents, num_agents * num_tasks))\n",
    "for i in range(num_agents):\n",
    "    A_eq_agents[i, i*num_tasks:(i+1)*num_tasks] = 1\n",
    "\n",
    "# Each task is assigned to exactly one agent\n",
    "# Each column sums to 1\n",
    "A_eq_tasks = np.zeros((num_tasks, num_agents * num_tasks))\n",
    "for i in range(num_tasks):\n",
    "    A_eq_tasks[i, i::num_tasks] = 1\n",
    "\n",
    "A_eq = np.vstack((A_eq_agents, A_eq_tasks))\n",
    "b_eq = np.ones(A_eq.shape[0])\n",
    "\n",
    "\n",
    "# Solve the linear programming problem\n",
    "result = linprog(-c, A_eq=A_eq, b_eq=b_eq, bounds=(0, 1), method='highs')"
   ]
  },
  {
   "cell_type": "code",
   "execution_count": 25,
   "metadata": {},
   "outputs": [],
   "source": [
    "values = result.x.reshape((num_agents, num_tasks)).astype(bool)"
   ]
  },
  {
   "cell_type": "code",
   "execution_count": 26,
   "metadata": {},
   "outputs": [],
   "source": [
    "tot = sum(data[values])"
   ]
  },
  {
   "cell_type": "code",
   "execution_count": 29,
   "metadata": {},
   "outputs": [
    {
     "data": {
      "text/plain": [
       "np.int64(13938)"
      ]
     },
     "execution_count": 29,
     "metadata": {},
     "output_type": "execute_result"
    }
   ],
   "source": [
    "tot.astype(int)"
   ]
  },
  {
   "cell_type": "code",
   "execution_count": null,
   "metadata": {},
   "outputs": [],
   "source": [
    "(0, 4)\n",
    "(1, 1)\n",
    "(2, 2)\n",
    "(3, 3)\n",
    "(4, 0)"
   ]
  }
 ],
 "metadata": {
  "kernelspec": {
   "display_name": "utils",
   "language": "python",
   "name": "python3"
  },
  "language_info": {
   "codemirror_mode": {
    "name": "ipython",
    "version": 3
   },
   "file_extension": ".py",
   "mimetype": "text/x-python",
   "name": "python",
   "nbconvert_exporter": "python",
   "pygments_lexer": "ipython3",
   "version": "3.13.0"
  }
 },
 "nbformat": 4,
 "nbformat_minor": 2
}
