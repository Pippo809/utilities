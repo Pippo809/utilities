{
 "cells": [
  {
   "cell_type": "markdown",
   "metadata": {},
   "source": [
    "Find the first fibonacci number that has 1000 digits."
   ]
  },
  {
   "cell_type": "code",
   "execution_count": 9,
   "metadata": {},
   "outputs": [],
   "source": [
    "def fibbi(x):\n",
    "    out = [1, 1]\n",
    "    idx = 0\n",
    "    while idx < x-1:\n",
    "        out.append(out[-1]+out[-2])\n",
    "        idx += 1\n",
    "    return out[-1]"
   ]
  },
  {
   "cell_type": "code",
   "execution_count": 15,
   "metadata": {},
   "outputs": [
    {
     "name": "stdout",
     "output_type": "stream",
     "text": [
      "4781\n"
     ]
    }
   ],
   "source": [
    "digits = 0\n",
    "idx = 1\n",
    "out = [1, 1]\n",
    "while digits < 1000:\n",
    "    out.append(out[-1]+out[-2])\n",
    "    digits = len(str(out[-1]))\n",
    "    idx += 1\n",
    "print(idx)"
   ]
  }
 ],
 "metadata": {
  "kernelspec": {
   "display_name": "numpy_ex",
   "language": "python",
   "name": "python3"
  },
  "language_info": {
   "codemirror_mode": {
    "name": "ipython",
    "version": 3
   },
   "file_extension": ".py",
   "mimetype": "text/x-python",
   "name": "python",
   "nbconvert_exporter": "python",
   "pygments_lexer": "ipython3",
   "version": "3.11.10"
  }
 },
 "nbformat": 4,
 "nbformat_minor": 2
}
