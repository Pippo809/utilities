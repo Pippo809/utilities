{
 "cells": [
  {
   "cell_type": "code",
   "execution_count": 39,
   "metadata": {},
   "outputs": [],
   "source": [
    "with open(\"/home/lollo/git/utilities/scratch/4.txt\", \"r\") as file:\n",
    "    tickets = file.readlines()"
   ]
  },
  {
   "cell_type": "code",
   "execution_count": 31,
   "metadata": {},
   "outputs": [],
   "source": [
    "def myint(s):\n",
    "    try:\n",
    "        return int(s)\n",
    "    except ValueError:\n",
    "        return -1"
   ]
  },
  {
   "cell_type": "code",
   "execution_count": 27,
   "metadata": {},
   "outputs": [],
   "source": [
    "tot = 0\n",
    "for ticket in tickets:\n",
    "    ticket = ticket.split(\":\")[1].strip()\n",
    "    winning = set(map(myint, ticket.split(\"|\")[0].strip().split(\" \")))\n",
    "    winning.discard(-1)\n",
    "    my = list(map(myint, ticket.split(\"|\")[1].strip().split(\" \")))\n",
    "    wons = 0\n",
    "    for idx, n in enumerate(my):\n",
    "        if n in winning:\n",
    "            wons += 1\n",
    "    if wons >= 1:\n",
    "        tot += 2**(wons-1)\n"
   ]
  },
  {
   "cell_type": "code",
   "execution_count": 40,
   "metadata": {},
   "outputs": [],
   "source": [
    "tot = 0\n",
    "next_cards = [1] * len(tickets)\n",
    "for idx, ticket in enumerate(tickets):\n",
    "    ticket = ticket.split(\":\")[1].strip()\n",
    "    winning = set(map(myint, ticket.split(\"|\")[0].strip().split(\" \")))\n",
    "    winning.discard(-1)\n",
    "    my = list(map(myint, ticket.split(\"|\")[1].strip().split(\" \")))\n",
    "    wons = 0\n",
    "    for n in my:\n",
    "        if n in winning:\n",
    "            wons += 1\n",
    "            next_cards[idx + wons] += next_cards[idx]\n",
    "    tot += next_cards[idx]\n"
   ]
  },
  {
   "cell_type": "code",
   "execution_count": null,
   "metadata": {},
   "outputs": [
    {
     "data": {
      "text/plain": [
       "9721255"
      ]
     },
     "execution_count": 41,
     "metadata": {},
     "output_type": "execute_result"
    }
   ],
   "source": []
  }
 ],
 "metadata": {
  "kernelspec": {
   "display_name": "microrobot",
   "language": "python",
   "name": "python3"
  },
  "language_info": {
   "codemirror_mode": {
    "name": "ipython",
    "version": 3
   },
   "file_extension": ".py",
   "mimetype": "text/x-python",
   "name": "python",
   "nbconvert_exporter": "python",
   "pygments_lexer": "ipython3",
   "version": "3.9.20"
  }
 },
 "nbformat": 4,
 "nbformat_minor": 2
}
