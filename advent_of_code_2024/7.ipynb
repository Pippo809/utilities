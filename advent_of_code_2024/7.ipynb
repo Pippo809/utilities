{
 "cells": [
  {
   "cell_type": "markdown",
   "metadata": {},
   "source": [
    "# Day 7: Bridge Repair\n",
    "The Historians take you to a familiar rope bridge over a river in the middle of a jungle. The Chief isn't on this side of the bridge, though; maybe he's on the other side?\n",
    "\n",
    "When you go to cross the bridge, you notice a group of engineers trying to repair it. (Apparently, it breaks pretty frequently.) You won't be able to cross until it's fixed.\n",
    "\n",
    "You ask how long it'll take; the engineers tell you that it only needs final calibrations, but some young elephants were playing nearby and stole all the operators from their calibration equations! They could finish the calibrations if only someone could determine which test values could possibly be produced by placing any combination of operators into their calibration equations (your puzzle input).\n",
    "\n",
    "For example:\n",
    "```\n",
    "190: 10 19\n",
    "3267: 81 40 27\n",
    "83: 17 5\n",
    "156: 15 6\n",
    "7290: 6 8 6 15\n",
    "161011: 16 10 13\n",
    "192: 17 8 14\n",
    "21037: 9 7 18 13\n",
    "292: 11 6 16 20\n",
    "```\n",
    "Each line represents a single equation. The test value appears before the colon on each line; it is your job to determine whether the remaining numbers can be combined with operators to produce the test value.\n",
    "\n",
    "Operators are always evaluated left-to-right, not according to precedence rules. Furthermore, numbers in the equations cannot be rearranged. Glancing into the jungle, you can see elephants holding two different types of operators: add (+) and multiply (*).\n",
    "\n",
    "Only three of the above equations can be made true by inserting operators:\n",
    "\n",
    "190: 10 19 has only one position that accepts an operator: between 10 and 19. Choosing + would give 29, but choosing * would give the test value (10 * 19 = 190).\n",
    "3267: 81 40 27 has two positions for operators. Of the four possible configurations of the operators, two cause the right side to match the test value: 81 + 40 * 27 and 81 * 40 + 27 both equal 3267 (when evaluated left-to-right)!\n",
    "292: 11 6 16 20 can be solved in exactly one way: 11 + 6 * 16 + 20.\n",
    "The engineers just need the total calibration result, which is the sum of the test values from just the equations that could possibly be true. In the above example, the sum of the test values for the three equations listed above is 3749.\n",
    "\n",
    "Determine which equations could possibly be true. What is their total calibration result?"
   ]
  },
  {
   "cell_type": "code",
   "execution_count": 102,
   "metadata": {},
   "outputs": [],
   "source": [
    "values = []\n",
    "with open(\"7.txt\", \"+r\") as file:\n",
    "    for line in file.readlines():\n",
    "        line = line.rstrip(\" \\n\")\n",
    "        res = int(line.split(\":\")[0])\n",
    "        addends = list(map(int, line.split(\":\")[1].split(\" \")[1:]))\n",
    "        values.append([res, addends])"
   ]
  },
  {
   "cell_type": "code",
   "execution_count": 96,
   "metadata": {},
   "outputs": [
    {
     "data": {
      "text/plain": [
       "[[190, [10, 19]],\n",
       " [3267, [81, 40, 27]],\n",
       " [83, [17, 5]],\n",
       " [156, [15, 6]],\n",
       " [7290, [6, 8, 6, 15]],\n",
       " [161011, [16, 10, 13]],\n",
       " [192, [17, 8, 14]],\n",
       " [21037, [9, 7, 18, 13]],\n",
       " [292, [11, 6, 16, 20]]]"
      ]
     },
     "execution_count": 96,
     "metadata": {},
     "output_type": "execute_result"
    }
   ],
   "source": [
    "values"
   ]
  },
  {
   "cell_type": "code",
   "execution_count": 105,
   "metadata": {},
   "outputs": [],
   "source": [
    "def rec(tmp, add: list, target, count=0):\n",
    "    # Base case: if tmp equals the target and no more elements are left in add\n",
    "    if tmp == target and len(add) == 0:\n",
    "        return count + 1\n",
    "    \n",
    "    # If tmp exceeds the target, return the current count\n",
    "    if tmp > target or len(add) == 0:\n",
    "        return count\n",
    "    \n",
    "    # Recursive case: take the first element of add and explore both operations\n",
    "    curr = add[0]\n",
    "    # Explore multiplication\n",
    "    count = rec(tmp * curr, add[1:], target, count)\n",
    "    # Explore addition\n",
    "    count = rec(tmp + curr, add[1:], target, count)\n",
    "    # Explore elephant operator\n",
    "    count = rec(int(f\"{tmp}{curr}\"), add[1:], target, count)\n",
    "    \n",
    "    return count\n"
   ]
  },
  {
   "cell_type": "code",
   "execution_count": 106,
   "metadata": {},
   "outputs": [],
   "source": [
    "tot = 0\n",
    "for val in values:\n",
    "    res = val[0]\n",
    "    addends = val[1]\n",
    "    curr = addends[0]\n",
    "    count = rec(curr, addends[1:], res, 0)\n",
    "    tot += res*(count>0)\n"
   ]
  },
  {
   "cell_type": "code",
   "execution_count": 107,
   "metadata": {},
   "outputs": [
    {
     "data": {
      "text/plain": [
       "337041851384440"
      ]
     },
     "execution_count": 107,
     "metadata": {},
     "output_type": "execute_result"
    }
   ],
   "source": [
    "tot"
   ]
  }
 ],
 "metadata": {
  "kernelspec": {
   "display_name": "utils",
   "language": "python",
   "name": "python3"
  },
  "language_info": {
   "codemirror_mode": {
    "name": "ipython",
    "version": 3
   },
   "file_extension": ".py",
   "mimetype": "text/x-python",
   "name": "python",
   "nbconvert_exporter": "python",
   "pygments_lexer": "ipython3",
   "version": "3.13.0"
  }
 },
 "nbformat": 4,
 "nbformat_minor": 2
}
