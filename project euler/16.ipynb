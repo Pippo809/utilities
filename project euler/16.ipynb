{
 "cells": [
  {
   "cell_type": "markdown",
   "metadata": {},
   "source": [
    "By starting at the top of the triangle below and moving to adjacent numbers on the row below, the maximum total from top to bottom is\n",
    "\n",
    ".\n",
    "\n",
    "3\n",
    "7 4\n",
    "2 4 6\n",
    "8 5 9 3\n",
    "\n",
    "That is,\n",
    "\n",
    ".\n",
    "\n",
    "Find the maximum total from top to bottom of the triangle below:\n",
    "\n",
    "75\n",
    "95 64\n",
    "17 47 82\n",
    "18 35 87 10\n",
    "20 04 82 47 65\n",
    "19 01 23 75 03 34\n",
    "88 02 77 73 07 63 67\n",
    "99 65 04 28 06 16 70 92\n",
    "41 41 26 56 83 40 80 70 33\n",
    "41 48 72 33 47 32 37 16 94 29\n",
    "53 71 44 65 25 43 91 52 97 51 14\n",
    "70 11 33 28 77 73 17 78 39 68 17 57\n",
    "91 71 52 38 17 14 91 43 58 50 27 29 48\n",
    "63 66 04 68 89 53 67 30 73 16 69 87 40 31\n",
    "04 62 98 27 23 09 70 98 73 93 38 53 60 04 23"
   ]
  },
  {
   "cell_type": "code",
   "execution_count": 12,
   "metadata": {},
   "outputs": [
    {
     "name": "stdout",
     "output_type": "stream",
     "text": [
      "[[75], [95, 64], [17, 47, 82], [18, 35, 87, 10], [20, 4, 82, 47, 65], [19, 1, 23, 75, 3, 34], [88, 2, 77, 73, 7, 63, 67], [99, 65, 4, 28, 6, 16, 70, 92], [41, 41, 26, 56, 83, 40, 80, 70, 33], [41, 48, 72, 33, 47, 32, 37, 16, 94, 29], [53, 71, 44, 65, 25, 43, 91, 52, 97, 51, 14], [70, 11, 33, 28, 77, 73, 17, 78, 39, 68, 17, 57], [91, 71, 52, 38, 17, 14, 91, 43, 58, 50, 27, 29, 48], [63, 66, 4, 68, 89, 53, 67, 30, 73, 16, 69, 87, 40, 31], [4, 62, 98, 27, 23, 9, 70, 98, 73, 93, 38, 53, 60, 4, 23]]\n"
     ]
    }
   ],
   "source": [
    "with open(\"16.txt\", \"r\") as f:\n",
    "    data = []\n",
    "    for line in f.readlines():\n",
    "        data.append([int(x) for x in line.strip().split(\" \")])\n",
    "print(data)"
   ]
  },
  {
   "cell_type": "code",
   "execution_count": 14,
   "metadata": {},
   "outputs": [
    {
     "name": "stdout",
     "output_type": "stream",
     "text": [
      "[75]\n",
      "[170, 139]\n",
      "[187, 217, 221]\n",
      "[205, 252, 308, 231]\n",
      "[225, 256, 390, 355, 296]\n",
      "[244, 257, 413, 465, 358, 330]\n",
      "[332, 259, 490, 538, 472, 421, 397]\n",
      "[431, 397, 494, 566, 544, 488, 491, 489]\n",
      "[472, 472, 520, 622, 649, 584, 571, 561, 522]\n",
      "[513, 520, 592, 655, 696, 681, 621, 587, 655, 551]\n",
      "[566, 591, 636, 720, 721, 739, 772, 673, 752, 706, 565]\n",
      "[636, 602, 669, 748, 798, 812, 789, 850, 791, 820, 723, 622]\n",
      "[727, 707, 721, 786, 815, 826, 903, 893, 908, 870, 847, 752, 670]\n",
      "[790, 793, 725, 854, 904, 879, 970, 933, 981, 924, 939, 934, 792, 701]\n",
      "[794, 855, 891, 881, 927, 913, 1040, 1068, 1054, 1074, 977, 992, 994, 796, 724]\n",
      "1074\n"
     ]
    }
   ],
   "source": [
    "tot = 0\n",
    "ds = [data[0]]\n",
    "\n",
    "for i, line in enumerate(data[1:]):\n",
    "    maxi = len(ds[i])\n",
    "    for j, x in enumerate(line):\n",
    "        if j == 0:\n",
    "            ds.append([ds[i][0] + x])\n",
    "        elif j >= maxi:\n",
    "            ds[i+1].append(ds[i][j-1] + x)\n",
    "        else:\n",
    "            ds[i+1].append(max(ds[i][j-1], ds[i][j]) + x)\n",
    "\n",
    "for line in ds:\n",
    "    print(line)\n",
    "print(max(ds[-1]))    \n"
   ]
  }
 ],
 "metadata": {
  "kernelspec": {
   "display_name": "numpy_ex",
   "language": "python",
   "name": "python3"
  },
  "language_info": {
   "codemirror_mode": {
    "name": "ipython",
    "version": 3
   },
   "file_extension": ".py",
   "mimetype": "text/x-python",
   "name": "python",
   "nbconvert_exporter": "python",
   "pygments_lexer": "ipython3",
   "version": "3.11.10"
  }
 },
 "nbformat": 4,
 "nbformat_minor": 2
}
