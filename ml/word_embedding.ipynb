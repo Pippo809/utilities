{
 "cells": [
  {
   "cell_type": "code",
   "execution_count": 1,
   "metadata": {},
   "outputs": [],
   "source": [
    "import gensim.downloader\n",
    "from scipy.linalg import norm\n",
    "import numpy as np"
   ]
  },
  {
   "cell_type": "markdown",
   "metadata": {},
   "source": [
    "### This is the embedding matrix of a simple trained LLM\n",
    "It is the first matrix in which words are passed into to be tranformed in vectors, real tokens are not really words but \"parts\" of words and more importantly they will get \"enriched\" with context from other parts of the sentence by the attention mechanism. Meaning that the vector representing a word will then point to different directions."
   ]
  },
  {
   "cell_type": "code",
   "execution_count": 2,
   "metadata": {},
   "outputs": [],
   "source": [
    "model = gensim.downloader.load(\"glove-wiki-gigaword-50\")"
   ]
  },
  {
   "cell_type": "markdown",
   "metadata": {},
   "source": [
    "## Dimentions have \"semantic\" interpretation; for example: Plurality\n",
    "We calculate the difference between cat and cats this should give us the direction of \"plurality\":"
   ]
  },
  {
   "cell_type": "code",
   "execution_count": 3,
   "metadata": {},
   "outputs": [
    {
     "data": {
      "text/plain": [
       "array([-0.02199   , -0.35108   , -0.01924998, -0.634903  , -0.32648998,\n",
       "        0.11365002, -0.24805999, -0.05373996, -0.24123001,  0.15840201,\n",
       "       -0.14634998, -0.36223003,  0.11755997, -0.70904005,  0.01692998,\n",
       "        0.05896997,  0.81096   , -0.42523998, -0.30130005,  0.266191  ,\n",
       "       -0.08174002,  0.0142    ,  0.46699002,  0.15809998, -0.24404001,\n",
       "        0.88282   ,  0.28436   , -0.68671   ,  0.14561999, -0.32805002,\n",
       "       -0.16110003,  0.76809   ,  0.39828   , -0.69056004,  0.46418   ,\n",
       "        0.21342   ,  0.20650001, -0.12044999, -0.17143999,  0.32875   ,\n",
       "       -0.207801  , -0.67872   ,  0.72977996,  0.29582   ,  0.18046993,\n",
       "        0.80364   , -0.54152   ,  0.48396003, -0.01890999, -0.34506   ],\n",
       "      dtype=float32)"
      ]
     },
     "execution_count": 3,
     "metadata": {},
     "output_type": "execute_result"
    }
   ],
   "source": [
    "plur_vect = model[\"cats\"] - model[\"cat\"]\n",
    "plur_vect"
   ]
  },
  {
   "cell_type": "code",
   "execution_count": 43,
   "metadata": {},
   "outputs": [
    {
     "data": {
      "text/plain": [
       "(-2.399511, 0.7914256)"
      ]
     },
     "execution_count": 43,
     "metadata": {},
     "output_type": "execute_result"
    }
   ],
   "source": [
    "np.dot(plur_vect, model[\"one\"]), np.dot(plur_vect, model[\"two\"])"
   ]
  },
  {
   "cell_type": "code",
   "execution_count": 45,
   "metadata": {},
   "outputs": [
    {
     "data": {
      "text/plain": [
       "(-2.2534056, 0.27854303)"
      ]
     },
     "execution_count": 45,
     "metadata": {},
     "output_type": "execute_result"
    }
   ],
   "source": [
    "np.dot(plur_vect, model[\"coin\"]), np.dot(plur_vect, model[\"coins\"])"
   ]
  },
  {
   "cell_type": "code",
   "execution_count": 46,
   "metadata": {},
   "outputs": [
    {
     "data": {
      "text/plain": [
       "(-5.1723533, 4.838005)"
      ]
     },
     "execution_count": 46,
     "metadata": {},
     "output_type": "execute_result"
    }
   ],
   "source": [
    "np.dot(plur_vect, model[\"man\"]), np.dot(plur_vect, model[\"population\"])"
   ]
  },
  {
   "cell_type": "code",
   "execution_count": 39,
   "metadata": {},
   "outputs": [
    {
     "data": {
      "text/plain": [
       "21.877504"
      ]
     },
     "execution_count": 39,
     "metadata": {},
     "output_type": "execute_result"
    }
   ],
   "source": [
    "np.dot(model[\"queen\"], model[\"king\"])"
   ]
  },
  {
   "cell_type": "code",
   "execution_count": 18,
   "metadata": {},
   "outputs": [
    {
     "data": {
      "text/plain": [
       "5.2178674"
      ]
     },
     "execution_count": 18,
     "metadata": {},
     "output_type": "execute_result"
    }
   ],
   "source": [
    "np.dot(model[\"migros\"], model[\"groceries\"])"
   ]
  }
 ],
 "metadata": {
  "kernelspec": {
   "display_name": "utils",
   "language": "python",
   "name": "python3"
  },
  "language_info": {
   "codemirror_mode": {
    "name": "ipython",
    "version": 3
   },
   "file_extension": ".py",
   "mimetype": "text/x-python",
   "name": "python",
   "nbconvert_exporter": "python",
   "pygments_lexer": "ipython3",
   "version": "3.10.14"
  }
 },
 "nbformat": 4,
 "nbformat_minor": 2
}
